{
  "cells": [
    {
      "cell_type": "markdown",
      "metadata": {
        "id": "FE7KNzPPVrVV"
      },
      "source": [
        "# Flower classification"
      ]
    },
    {
      "cell_type": "markdown",
      "metadata": {
        "id": "zF9uvbXNVrVY"
      },
      "source": [
        "## Import necessary libraries\n"
      ]
    },
    {
      "cell_type": "code",
      "execution_count": null,
      "metadata": {
        "execution": {
          "iopub.execute_input": "2022-08-12T01:23:23.464306Z",
          "iopub.status.busy": "2022-08-12T01:23:23.463686Z",
          "iopub.status.idle": "2022-08-12T01:23:26.257466Z",
          "shell.execute_reply": "2022-08-12T01:23:26.256487Z"
        },
        "id": "L1WtoaOHVrVh"
      },
      "outputs": [],
      "source": [
        "import matplotlib.pyplot as plt\n",
        "import numpy as np\n",
        "import PIL\n",
        "import tensorflow as tf\n",
        "import pathlib\n",
        "\n",
        "SEED = 12\n",
        "np.random.seed(SEED)\n",
        "tf.random.set_seed(SEED)"
      ]
    },
    {
      "cell_type": "markdown",
      "metadata": {
        "id": "UZZI6lNkVrVm"
      },
      "source": [
        "## Download and explore the dataset"
      ]
    },
    {
      "cell_type": "markdown",
      "metadata": {
        "id": "DPHx8-t-VrVo"
      },
      "source": [
        "This tutorial uses a dataset of about 3,700 photos of flowers. The dataset contains five sub-directories, one per class:\n",
        "\n",
        "```\n",
        "flower_photo/\n",
        "  daisy/\n",
        "  dandelion/\n",
        "  roses/\n",
        "  sunflowers/\n",
        "  tulips/\n",
        "```"
      ]
    },
    {
      "cell_type": "code",
      "execution_count": null,
      "metadata": {
        "execution": {
          "iopub.execute_input": "2022-08-12T01:23:26.263115Z",
          "iopub.status.busy": "2022-08-12T01:23:26.262673Z",
          "iopub.status.idle": "2022-08-12T01:23:26.267555Z",
          "shell.execute_reply": "2022-08-12T01:23:26.266819Z"
        },
        "id": "57CcilYSG0zv"
      },
      "outputs": [],
      "source": [
        "dataset_url = \"https://storage.googleapis.com/download.tensorflow.org/example_images/flower_photos.tgz\"\n",
        "data_dir = tf.keras.utils.get_file('flower_photos', origin=dataset_url, untar=True)\n",
        "data_dir = pathlib.Path(data_dir)"
      ]
    },
    {
      "cell_type": "markdown",
      "metadata": {
        "id": "VpmywIlsVrVx"
      },
      "source": [
        "After downloading, you should now have a copy of the dataset available. There are 3,670 total images:"
      ]
    },
    {
      "cell_type": "code",
      "execution_count": null,
      "metadata": {
        "execution": {
          "iopub.execute_input": "2022-08-12T01:23:26.271379Z",
          "iopub.status.busy": "2022-08-12T01:23:26.271128Z",
          "iopub.status.idle": "2022-08-12T01:23:26.287472Z",
          "shell.execute_reply": "2022-08-12T01:23:26.286680Z"
        },
        "id": "SbtTDYhOHZb6"
      },
      "outputs": [],
      "source": [
        "image_count = len(list(data_dir.glob('*/*.jpg')))\n",
        "print(f\"Total image count: {image_count}\")"
      ]
    },
    {
      "cell_type": "markdown",
      "metadata": {
        "id": "PVmwkOSdHZ5A"
      },
      "source": [
        "Here are some roses:"
      ]
    },
    {
      "cell_type": "code",
      "execution_count": null,
      "metadata": {
        "execution": {
          "iopub.execute_input": "2022-08-12T01:23:26.291704Z",
          "iopub.status.busy": "2022-08-12T01:23:26.291130Z",
          "iopub.status.idle": "2022-08-12T01:23:26.322561Z",
          "shell.execute_reply": "2022-08-12T01:23:26.321767Z"
        },
        "id": "N1loMlbYHeiJ"
      },
      "outputs": [],
      "source": [
        "roses = list(data_dir.glob('roses/*'))\n",
        "PIL.Image.open(str(roses[0]))"
      ]
    },
    {
      "cell_type": "code",
      "execution_count": null,
      "metadata": {
        "execution": {
          "iopub.execute_input": "2022-08-12T01:23:26.326570Z",
          "iopub.status.busy": "2022-08-12T01:23:26.326312Z",
          "iopub.status.idle": "2022-08-12T01:23:26.355919Z",
          "shell.execute_reply": "2022-08-12T01:23:26.355185Z"
        },
        "id": "RQbZBOTLHiUP"
      },
      "outputs": [],
      "source": [
        "PIL.Image.open(str(roses[1]))"
      ]
    },
    {
      "cell_type": "markdown",
      "metadata": {
        "id": "DGEqiBbRHnyI"
      },
      "source": [
        "And some tulips:"
      ]
    },
    {
      "cell_type": "code",
      "execution_count": null,
      "metadata": {
        "execution": {
          "iopub.execute_input": "2022-08-12T01:23:26.360323Z",
          "iopub.status.busy": "2022-08-12T01:23:26.359580Z",
          "iopub.status.idle": "2022-08-12T01:23:26.387244Z",
          "shell.execute_reply": "2022-08-12T01:23:26.386371Z"
        },
        "id": "HyQkfPGdHilw"
      },
      "outputs": [],
      "source": [
        "tulips = list(data_dir.glob('tulips/*'))\n",
        "PIL.Image.open(str(tulips[0]))"
      ]
    },
    {
      "cell_type": "code",
      "execution_count": null,
      "metadata": {
        "execution": {
          "iopub.execute_input": "2022-08-12T01:23:26.392119Z",
          "iopub.status.busy": "2022-08-12T01:23:26.391455Z",
          "iopub.status.idle": "2022-08-12T01:23:26.408965Z",
          "shell.execute_reply": "2022-08-12T01:23:26.408092Z"
        },
        "id": "wtlhWJPAHivf"
      },
      "outputs": [],
      "source": [
        "PIL.Image.open(str(tulips[1]))"
      ]
    },
    {
      "cell_type": "markdown",
      "metadata": {
        "id": "gIjgz7_JIo_m"
      },
      "source": [
        "## Load data using a Keras utility\n",
        "\n",
        "Next, load these images off disk using the helpful `tf.keras.utils.image_dataset_from_directory` utility. This will take you from a directory of images on disk to a `tf.data.Dataset` in just a couple lines of code. "
      ]
    },
    {
      "cell_type": "markdown",
      "metadata": {
        "id": "xyDNn9MbIzfT"
      },
      "source": [
        "### Create a dataset"
      ]
    },
    {
      "cell_type": "markdown",
      "metadata": {
        "id": "anqiK_AGI086"
      },
      "source": [
        "Define some parameters for the loader:"
      ]
    },
    {
      "cell_type": "code",
      "execution_count": null,
      "metadata": {
        "execution": {
          "iopub.execute_input": "2022-08-12T01:23:26.413793Z",
          "iopub.status.busy": "2022-08-12T01:23:26.413533Z",
          "iopub.status.idle": "2022-08-12T01:23:26.417347Z",
          "shell.execute_reply": "2022-08-12T01:23:26.416614Z"
        },
        "id": "H74l2DoDI2XD"
      },
      "outputs": [],
      "source": [
        "BATCH_SIZE = 32\n",
        "IMG_HEIGHT = 180\n",
        "IMG_WIDTH = 180"
      ]
    },
    {
      "cell_type": "markdown",
      "metadata": {
        "id": "pFBhRrrEI49z"
      },
      "source": [
        "It's good practice to use a validation split when developing your model. Use 80% of the images for training and 20% for testing."
      ]
    },
    {
      "cell_type": "code",
      "execution_count": null,
      "metadata": {
        "execution": {
          "iopub.execute_input": "2022-08-12T01:23:26.421338Z",
          "iopub.status.busy": "2022-08-12T01:23:26.421075Z",
          "iopub.status.idle": "2022-08-12T01:23:29.746971Z",
          "shell.execute_reply": "2022-08-12T01:23:29.746063Z"
        },
        "id": "fIR0kRZiI_AT"
      },
      "outputs": [],
      "source": [
        "train_ds = tf.keras.utils.image_dataset_from_directory(\n",
        "                                          data_dir,\n",
        "                                          validation_split=0.2,\n",
        "                                          subset=\"training\",\n",
        "                                          seed=SEED,\n",
        "                                          image_size=(IMG_HEIGHT, IMG_WIDTH),\n",
        "                                          batch_size=BATCH_SIZE)\n",
        "\n",
        "test_ds = tf.keras.utils.image_dataset_from_directory(\n",
        "                                          data_dir,\n",
        "                                          validation_split=0.2,\n",
        "                                          subset=\"validation\",\n",
        "                                          seed=SEED,\n",
        "                                          image_size=(IMG_HEIGHT, IMG_WIDTH),\n",
        "                                          batch_size=BATCH_SIZE)"
      ]
    },
    {
      "cell_type": "markdown",
      "metadata": {
        "id": "WLQULyAvJC3X"
      },
      "source": [
        "You can find the class names in the `class_names` attribute on these datasets. These correspond to the directory names in alphabetical order."
      ]
    },
    {
      "cell_type": "code",
      "execution_count": null,
      "metadata": {
        "execution": {
          "iopub.execute_input": "2022-08-12T01:23:29.931311Z",
          "iopub.status.busy": "2022-08-12T01:23:29.931021Z",
          "iopub.status.idle": "2022-08-12T01:23:29.935382Z",
          "shell.execute_reply": "2022-08-12T01:23:29.934628Z"
        },
        "id": "ZHAxkHX5JD3k"
      },
      "outputs": [],
      "source": [
        "class_names = train_ds.class_names\n",
        "print(class_names)"
      ]
    },
    {
      "cell_type": "markdown",
      "metadata": {
        "id": "_uoVvxSLJW9m"
      },
      "source": [
        "## Visualize the data\n",
        "\n",
        "Here are the first nine images from the training dataset:"
      ]
    },
    {
      "cell_type": "code",
      "execution_count": null,
      "metadata": {
        "execution": {
          "iopub.execute_input": "2022-08-12T01:23:29.939276Z",
          "iopub.status.busy": "2022-08-12T01:23:29.939025Z",
          "iopub.status.idle": "2022-08-12T01:23:30.593412Z",
          "shell.execute_reply": "2022-08-12T01:23:30.592456Z"
        },
        "id": "wBmEA9c0JYes"
      },
      "outputs": [],
      "source": [
        "plt.figure(figsize=(10, 10))\n",
        "for images, labels in train_ds.take(1):\n",
        "  for i in range(9):\n",
        "    ax = plt.subplot(3, 3, i + 1)\n",
        "    plt.imshow(images[i].numpy().astype(\"uint8\"))\n",
        "    plt.title(class_names[labels[i]])\n",
        "    plt.axis(\"off\")"
      ]
    },
    {
      "cell_type": "markdown",
      "metadata": {
        "id": "5M6BXtXFJdW0"
      },
      "source": [
        "You will pass these datasets to the Keras `Model.fit` method for training later in this tutorial. If you like, you can also manually iterate over the dataset and retrieve batches of images:"
      ]
    },
    {
      "cell_type": "code",
      "execution_count": null,
      "metadata": {
        "execution": {
          "iopub.execute_input": "2022-08-12T01:23:30.603787Z",
          "iopub.status.busy": "2022-08-12T01:23:30.603515Z",
          "iopub.status.idle": "2022-08-12T01:23:30.675685Z",
          "shell.execute_reply": "2022-08-12T01:23:30.674813Z"
        },
        "id": "2-MfMoenJi8s"
      },
      "outputs": [],
      "source": [
        "for image_batch, labels_batch in train_ds.take(1):\n",
        "  print(f\"Image batch size: {image_batch.shape}\")\n",
        "  print(f\"Label batch size: {labels_batch.shape}\")"
      ]
    },
    {
      "cell_type": "markdown",
      "metadata": {
        "id": "Wj4FrKxxJkoW"
      },
      "source": [
        "The `image_batch` is a tensor of the shape `(32, 180, 180, 3)`. This is a batch of 32 images of shape `180x180x3` (the last dimension refers to color channels RGB). The `label_batch` is a tensor of the shape `(32,)`, these are corresponding labels to the 32 images.\n",
        "\n",
        "You can call `.numpy()` on the `image_batch` and `labels_batch` tensors to convert them to a `numpy.ndarray`.\n"
      ]
    },
    {
      "cell_type": "markdown",
      "metadata": {
        "id": "4Dr0at41KcAU"
      },
      "source": [
        "## Configure the dataset for performance\n",
        "These are two important methods you should use when loading data:\n",
        "\n",
        "- `Dataset.cache` keeps the images in memory after they're loaded off disk during the first epoch. This will save some operations (like file opening and data reading) from being executed during each epoch.\n",
        "- `Dataset.prefetch` overlaps data preprocessing and model execution while training. While the model is executing training step `s`, the input pipeline is reading the data for step `s+1`. \n",
        "\n",
        "The number of elements to prefetch should be greater than or equal to the number of batches consumed by a single training step. You could either manually tune this value, or set it to `tf.data.AUTOTUNE`, which will prompt the `tf.data` runtime to tune the value dynamically at runtime."
      ]
    },
    {
      "cell_type": "code",
      "execution_count": null,
      "metadata": {
        "execution": {
          "iopub.execute_input": "2022-08-12T01:23:30.680785Z",
          "iopub.status.busy": "2022-08-12T01:23:30.680106Z",
          "iopub.status.idle": "2022-08-12T01:23:30.692044Z",
          "shell.execute_reply": "2022-08-12T01:23:30.691278Z"
        },
        "id": "nOjJSm7DKoZA"
      },
      "outputs": [],
      "source": [
        "AUTOTUNE = tf.data.AUTOTUNE\n",
        "# Dataset optimizing transformations\n",
        "train_ds = train_ds.cache().shuffle(1000).prefetch(buffer_size=AUTOTUNE)\n",
        "test_ds = test_ds.cache().prefetch(buffer_size=AUTOTUNE)"
      ]
    },
    {
      "cell_type": "markdown",
      "metadata": {
        "id": "WcUTyDOPKucd"
      },
      "source": [
        "## A basic Keras model\n",
        "---\n",
        "***Task: 1***\n",
        "\n",
        "Create a keras Sequential model consisting of three convolution blocks (`tf.keras.layers.Conv2D`) with filters `[16, 32, 64]` respectievly and a kernel size of 3x3, with a max pooling layer (`tf.keras.layers.MaxPooling2D`) in each of them. Add a fully-connected layer (`tf.keras.layers.Dense`) with 128 units on top of it that is activated by a ReLU activation function (`'relu'`). You may need to flatten the output before the dense layer.\n",
        "\n",
        "The RGB channel values are in the `[0, 255]` range. This is not ideal for a neural network; in general you should seek to make your input values small.\n",
        "\n",
        "Here, you will first add a layer which standardize input values to be in the `[0, 1]` range by using `tf.keras.layers.Rescaling`:\n",
        "\n",
        "---"
      ]
    },
    {
      "cell_type": "code",
      "execution_count": null,
      "metadata": {
        "execution": {
          "iopub.execute_input": "2022-08-12T01:23:31.232248Z",
          "iopub.status.busy": "2022-08-12T01:23:31.231977Z",
          "iopub.status.idle": "2022-08-12T01:23:31.340048Z",
          "shell.execute_reply": "2022-08-12T01:23:31.339187Z"
        },
        "id": "QR6argA1K074"
      },
      "outputs": [],
      "source": [
        "num_classes = len(class_names)\n",
        "\n",
        "################\n",
        "### Solution ###\n",
        "################\n",
        "\n",
        "model.summary()"
      ]
    },
    {
      "cell_type": "markdown",
      "metadata": {
        "id": "EaKFzz72Lqpg"
      },
      "source": [
        "### Compile the model\n",
        "\n",
        "For this tutorial, choose the `tf.keras.optimizers.Adam` optimizer and `tf.keras.losses.SparseCategoricalCrossentropy` loss function. To view training and validation accuracy for each training epoch, pass the `metrics` argument to `Model.compile`."
      ]
    },
    {
      "cell_type": "code",
      "execution_count": null,
      "metadata": {
        "execution": {
          "iopub.execute_input": "2022-08-12T01:23:31.344202Z",
          "iopub.status.busy": "2022-08-12T01:23:31.343913Z",
          "iopub.status.idle": "2022-08-12T01:23:31.357402Z",
          "shell.execute_reply": "2022-08-12T01:23:31.356547Z"
        },
        "id": "jloGNS1MLx3A"
      },
      "outputs": [],
      "source": [
        "model.compile(optimizer='adam',\n",
        "              loss=tf.keras.losses.SparseCategoricalCrossentropy(from_logits=True),\n",
        "              metrics=['accuracy'])"
      ]
    },
    {
      "cell_type": "markdown",
      "metadata": {
        "id": "NiYHcbvaL9H-"
      },
      "source": [
        "### Train the model"
      ]
    },
    {
      "cell_type": "markdown",
      "metadata": {
        "id": "j30F69T4sIVN"
      },
      "source": [
        "Train the model for 10 epochs with the Keras `Model.fit` method:"
      ]
    },
    {
      "cell_type": "code",
      "execution_count": null,
      "metadata": {
        "execution": {
          "iopub.execute_input": "2022-08-12T01:23:31.397663Z",
          "iopub.status.busy": "2022-08-12T01:23:31.397411Z",
          "iopub.status.idle": "2022-08-12T01:23:47.039629Z",
          "shell.execute_reply": "2022-08-12T01:23:47.038769Z"
        },
        "id": "5fWToCqYMErH"
      },
      "outputs": [],
      "source": [
        "NUM_EPOCHS=10\n",
        "\n",
        "training_info = model.fit(train_ds, validation_data=test_ds, epochs=NUM_EPOCHS)"
      ]
    },
    {
      "cell_type": "markdown",
      "metadata": {
        "id": "SyFKdQpXMJT4"
      },
      "source": [
        "## Visualize training results"
      ]
    },
    {
      "cell_type": "markdown",
      "metadata": {
        "id": "dFvOvmAmMK9w"
      },
      "source": [
        "Create plots of the loss and accuracy on the training and validation sets:"
      ]
    },
    {
      "cell_type": "code",
      "execution_count": null,
      "metadata": {
        "execution": {
          "iopub.execute_input": "2022-08-12T01:23:47.044489Z",
          "iopub.status.busy": "2022-08-12T01:23:47.044197Z",
          "iopub.status.idle": "2022-08-12T01:23:47.302442Z",
          "shell.execute_reply": "2022-08-12T01:23:47.301663Z"
        },
        "id": "jWnopEChMMCn"
      },
      "outputs": [],
      "source": [
        "def create_loss_accuracy_plots(training_info):\n",
        "  loss_history = training_info.history['loss']\n",
        "  accuracy_history = training_info.history['accuracy']\n",
        "\n",
        "  val_loss_history = training_info.history['val_loss']\n",
        "  val_accuracy_history = training_info.history['val_accuracy']\n",
        "\n",
        "  fig, axs = plt.subplots(nrows=1, ncols=2, figsize=(12, 6))\n",
        "  axs[0].plot(range(1, NUM_EPOCHS+1), loss_history, label=\"train loss\")\n",
        "  axs[0].plot(range(1, NUM_EPOCHS+1), val_loss_history, label=\"val loss\")\n",
        "  axs[0].legend()\n",
        "  axs[0].set_xlabel(\"Epochs\")\n",
        "  axs[0].set_ylabel(\"Loss\")\n",
        "\n",
        "  axs[1].plot(range(1, NUM_EPOCHS+1), accuracy_history, label=\"train accuracy\")\n",
        "  axs[1].plot(range(1, NUM_EPOCHS+1), val_accuracy_history, label=\"val accuracy\")\n",
        "  axs[1].legend()\n",
        "  axs[1].set_xlabel(\"Epochs\")\n",
        "  axs[1].set_ylabel(\"Accuracy\")\n",
        "\n",
        "  plt.show()\n",
        "\n",
        "create_loss_accuracy_plots(training_info)"
      ]
    },
    {
      "cell_type": "markdown",
      "metadata": {
        "id": "hO_jT7HwMrEn"
      },
      "source": [
        "The plots show that training accuracy and validation accuracy are off by large margins, and the model has achieved only around 60% accuracy on the validation set.\n",
        "\n",
        "The following tutorial sections show how to inspect what went wrong and try to increase the overall performance of the model."
      ]
    },
    {
      "cell_type": "markdown",
      "metadata": {
        "id": "hqtyGodAMvNV"
      },
      "source": [
        "## Overfitting"
      ]
    },
    {
      "cell_type": "markdown",
      "metadata": {
        "id": "ixsz9XFfMxcu"
      },
      "source": [
        "In the plots above, the training accuracy is increasing linearly over time, whereas validation accuracy stalls around 60% in the training process. Also, the difference in accuracy between training and validation accuracy is noticeable—a sign of overfitting.\n",
        "\n",
        "There are multiple ways to fight overfitting in the training process. In this tutorial, you'll use *data augmentation* and add *dropout* to your model."
      ]
    },
    {
      "cell_type": "markdown",
      "metadata": {
        "id": "BDMfYqwmM1C-"
      },
      "source": [
        "## Data augmentation"
      ]
    },
    {
      "cell_type": "markdown",
      "metadata": {
        "id": "GxYwix81M2YO"
      },
      "source": [
        "Overfitting generally occurs when there are a small number of training examples. [Data augmentation](./data_augmentation.ipynb) takes the approach of generating additional training data from your existing examples by augmenting them using random transformations that yield believable-looking images. This helps expose the model to more aspects of the data and generalize better.\n",
        "\n",
        "You will implement data augmentation using the following Keras preprocessing layers: `tf.keras.layers.RandomFlip`, `tf.keras.layers.RandomRotation`, and `tf.keras.layers.RandomZoom`. These can be included inside your model like other layers, and run on the GPU."
      ]
    },
    {
      "cell_type": "code",
      "execution_count": null,
      "metadata": {
        "execution": {
          "iopub.execute_input": "2022-08-12T01:23:47.307692Z",
          "iopub.status.busy": "2022-08-12T01:23:47.307455Z",
          "iopub.status.idle": "2022-08-12T01:23:47.516804Z",
          "shell.execute_reply": "2022-08-12T01:23:47.516006Z"
        },
        "id": "9J80BAbIMs21"
      },
      "outputs": [],
      "source": [
        "data_augmentation = tf.keras.Sequential(\n",
        "  [\n",
        "    tf.keras.layers.RandomFlip(\"horizontal\",\n",
        "        input_shape=(IMG_HEIGHT, IMG_WIDTH, 3)),\n",
        "    tf.keras.layers.RandomRotation(0.1),\n",
        "    tf.keras.layers.RandomZoom(0.1),\n",
        "  ]\n",
        ")"
      ]
    },
    {
      "cell_type": "markdown",
      "metadata": {
        "id": "PN4k1dK3S6eV"
      },
      "source": [
        "Visualize a few augmented examples by applying data augmentation to the same image several times:"
      ]
    },
    {
      "cell_type": "code",
      "execution_count": null,
      "metadata": {
        "execution": {
          "iopub.execute_input": "2022-08-12T01:23:47.521145Z",
          "iopub.status.busy": "2022-08-12T01:23:47.520859Z",
          "iopub.status.idle": "2022-08-12T01:23:50.081287Z",
          "shell.execute_reply": "2022-08-12T01:23:50.080421Z"
        },
        "id": "7Z90k539S838"
      },
      "outputs": [],
      "source": [
        "plt.figure(figsize=(10, 10))\n",
        "for images, _ in train_ds.take(1):\n",
        "  for i in range(9):\n",
        "    augmented_images = data_augmentation(images)\n",
        "    ax = plt.subplot(3, 3, i + 1)\n",
        "    plt.imshow(augmented_images[0].numpy().astype(\"uint8\"))\n",
        "    plt.axis(\"off\")"
      ]
    },
    {
      "cell_type": "markdown",
      "metadata": {
        "id": "tsjXCBLYYNs5"
      },
      "source": [
        "You will add data augmentation to your model before training in the next step."
      ]
    },
    {
      "cell_type": "markdown",
      "metadata": {
        "id": "ZeD3bXepYKXs"
      },
      "source": [
        "## Dropout\n",
        "\n",
        "Another technique to reduce overfitting is to introduce dropout regularization to the network.\n",
        "\n",
        "When you apply dropout to a layer, it randomly drops out (by setting the activation to zero) a number of output units from the layer during the training process. Dropout takes a fractional number as its input value, in the form such as 0.1, 0.2, 0.4, etc. This means dropping out 10%, 20% or 40% of the output units randomly from the applied layer.\n",
        "\n",
        "Create a new neural network with `tf.keras.layers.Dropout` before training it using the augmented images:"
      ]
    },
    {
      "cell_type": "code",
      "execution_count": null,
      "metadata": {
        "execution": {
          "iopub.execute_input": "2022-08-12T01:23:50.090306Z",
          "iopub.status.busy": "2022-08-12T01:23:50.090041Z",
          "iopub.status.idle": "2022-08-12T01:23:50.341455Z",
          "shell.execute_reply": "2022-08-12T01:23:50.340521Z"
        },
        "id": "2Zeg8zsqXCsm"
      },
      "outputs": [],
      "source": [
        "model = tf.keras.Sequential([\n",
        "    tf.keras.layers.InputLayer(input_shape=(IMG_HEIGHT, IMG_WIDTH, 3)),\n",
        "    data_augmentation,\n",
        "    tf.keras.layers.Rescaling(1./255),\n",
        "    tf.keras.layers.Conv2D(16, 3, padding='same', activation='relu'),\n",
        "    tf.keras.layers.MaxPooling2D(),\n",
        "    tf.keras.layers.Conv2D(32, 3, padding='same', activation='relu'),\n",
        "    tf.keras.layers.MaxPooling2D(),\n",
        "    tf.keras.layers.Conv2D(64, 3, padding='same', activation='relu'),\n",
        "    tf.keras.layers.MaxPooling2D(),\n",
        "    tf.keras.layers.Dropout(0.2),\n",
        "    tf.keras.layers.Flatten(),\n",
        "    tf.keras.layers.Dense(128, activation='relu'),\n",
        "    tf.keras.layers.Dense(num_classes)\n",
        "])\n",
        "\n",
        "model.summary()\n"
      ]
    },
    {
      "cell_type": "markdown",
      "metadata": {
        "id": "L4nEcuqgZLbi"
      },
      "source": [
        "## Compile and train the model"
      ]
    },
    {
      "cell_type": "code",
      "execution_count": null,
      "metadata": {
        "execution": {
          "iopub.execute_input": "2022-08-12T01:23:50.345872Z",
          "iopub.status.busy": "2022-08-12T01:23:50.345598Z",
          "iopub.status.idle": "2022-08-12T01:23:50.354779Z",
          "shell.execute_reply": "2022-08-12T01:23:50.353826Z"
        },
        "id": "EvyAINs9ZOmJ"
      },
      "outputs": [],
      "source": [
        "model.compile(optimizer='adam',\n",
        "              loss=tf.keras.losses.SparseCategoricalCrossentropy(from_logits=True),\n",
        "              metrics=['accuracy'])"
      ]
    },
    {
      "cell_type": "code",
      "execution_count": null,
      "metadata": {
        "execution": {
          "iopub.execute_input": "2022-08-12T01:23:50.397302Z",
          "iopub.status.busy": "2022-08-12T01:23:50.397060Z",
          "iopub.status.idle": "2022-08-12T01:24:30.568372Z",
          "shell.execute_reply": "2022-08-12T01:24:30.567510Z"
        },
        "id": "LWS-vvNaZDag"
      },
      "outputs": [],
      "source": [
        "training_info = model.fit(train_ds, validation_data=test_ds, epochs=NUM_EPOCHS)"
      ]
    },
    {
      "cell_type": "markdown",
      "metadata": {
        "id": "Lkdl8VsBbZOu"
      },
      "source": [
        "## Visualize training results\n",
        "\n",
        "After applying data augmentation and `tf.keras.layers.Dropout`, there is less overfitting than before, and training and validation accuracy are closer aligned:"
      ]
    },
    {
      "cell_type": "code",
      "execution_count": null,
      "metadata": {
        "execution": {
          "iopub.execute_input": "2022-08-12T01:24:30.572920Z",
          "iopub.status.busy": "2022-08-12T01:24:30.572585Z",
          "iopub.status.idle": "2022-08-12T01:24:30.874623Z",
          "shell.execute_reply": "2022-08-12T01:24:30.873787Z"
        },
        "id": "dduoLfKsZVIA"
      },
      "outputs": [],
      "source": [
        "create_loss_accuracy_plots(training_info)"
      ]
    }
  ],
  "metadata": {
    "accelerator": "GPU",
    "colab": {
      "collapsed_sections": [],
      "toc_visible": true,
      "provenance": []
    },
    "kernelspec": {
      "display_name": "Python 3",
      "name": "python3"
    },
    "language_info": {
      "codemirror_mode": {
        "name": "ipython",
        "version": 3
      },
      "file_extension": ".py",
      "mimetype": "text/x-python",
      "name": "python",
      "nbconvert_exporter": "python",
      "pygments_lexer": "ipython3",
      "version": "3.9.13"
    }
  },
  "nbformat": 4,
  "nbformat_minor": 0
}