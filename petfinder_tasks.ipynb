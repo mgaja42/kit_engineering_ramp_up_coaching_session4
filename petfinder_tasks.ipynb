{
  "cells": [
    {
      "cell_type": "markdown",
      "metadata": {
        "id": "sMYQvJuBi7MS"
      },
      "source": [
        "# Classify structured data using TensorFlow"
      ]
    },
    {
      "cell_type": "markdown",
      "metadata": {
        "id": "Nna1tOKxyEqe"
      },
      "source": [
        "This tutorial demonstrates how to classify structured data, such as tabular data, using a simplified version of the <a href=\"https://www.kaggle.com/c/petfinder-adoption-prediction\" class=\"external\">PetFinder dataset from a Kaggle competition</a> stored in a CSV file.\n",
        "\n",
        "You will use keras to define the model and to train the model. The goal is to predict if a pet will be adopted.\n"
      ]
    },
    {
      "cell_type": "markdown",
      "metadata": {
        "id": "ZHxU1FMNpomc"
      },
      "source": [
        "## The PetFinder.my mini dataset\n",
        "\n",
        "There are several thousand rows in the PetFinder.my mini's CSV dataset file, where each row describes a pet (a dog or a cat) and each column describes an attribute, such as age, breed, color, and so on.\n",
        "\n",
        "In the dataset's summary below, notice there are mostly numerical and categorical columns. In this tutorial, you will only be dealing with those two feature types, dropping `Description` (a free text feature) and `AdoptionSpeed` (a classification feature) during data preprocessing.\n",
        "\n",
        "| Column          | Pet description               | Feature type   | Data type |\n",
        "| --------------- | ----------------------------- | -------------- | --------- |\n",
        "| `Type`          | Type of animal (`Dog`, `Cat`) | Categorical    | String    |\n",
        "| `Age`           | Age                           | Numerical      | Integer   |\n",
        "| `Breed1`        | Primary breed                 | Categorical    | String    |\n",
        "| `Color1`        | Color 1                       | Categorical    | String    |\n",
        "| `Color2`        | Color 2                       | Categorical    | String    |\n",
        "| `MaturitySize`  | Size at maturity              | Categorical    | String    |\n",
        "| `FurLength`     | Fur length                    | Categorical    | String    |\n",
        "| `Vaccinated`    | Pet has been vaccinated       | Categorical    | String    |\n",
        "| `Sterilized`    | Pet has been sterilized       | Categorical    | String    |\n",
        "| `Health`        | Health condition              | Categorical    | String    |\n",
        "| `Fee`           | Adoption fee                  | Numerical      | Integer   |\n",
        "| `Description`   | Profile write-up              | Text           | String    |\n",
        "| `PhotoAmt`      | Total uploaded photos         | Numerical      | Integer   |\n",
        "| `AdoptionSpeed` | Categorical speed of adoption | Classification | Integer   |"
      ]
    },
    {
      "cell_type": "markdown",
      "metadata": {
        "id": "vjFbdBldyEqf"
      },
      "source": [
        "## Import TensorFlow and other libraries\n"
      ]
    },
    {
      "cell_type": "code",
      "execution_count": null,
      "metadata": {
        "execution": {
          "iopub.execute_input": "2022-07-30T01:22:07.518100Z",
          "iopub.status.busy": "2022-07-30T01:22:07.517820Z",
          "iopub.status.idle": "2022-07-30T01:22:09.693589Z",
          "shell.execute_reply": "2022-07-30T01:22:09.692661Z"
        },
        "id": "LklnLlt6yEqf"
      },
      "outputs": [],
      "source": [
        "import numpy as np\n",
        "import pandas as pd\n",
        "import tensorflow as tf\n",
        "import sklearn\n",
        "import matplotlib.pyplot as plt\n",
        "\n",
        "SEED = 12\n",
        "np.random.seed(SEED)\n",
        "tf.random.set_seed(SEED)"
      ]
    },
    {
      "cell_type": "markdown",
      "metadata": {
        "id": "UXvBvobayEqi"
      },
      "source": [
        "## Load the dataset and read it into a pandas DataFrame\n",
        "\n",
        "Use `tf.keras.utils.get_file` to download and extract the CSV file with the PetFinder.my mini dataset, and load it into a dataframe.\n"
      ]
    },
    {
      "cell_type": "code",
      "execution_count": null,
      "metadata": {
        "execution": {
          "iopub.execute_input": "2022-07-30T01:22:09.750213Z",
          "iopub.status.busy": "2022-07-30T01:22:09.749918Z",
          "iopub.status.idle": "2022-07-30T01:22:10.045828Z",
          "shell.execute_reply": "2022-07-30T01:22:10.044845Z"
        },
        "id": "qJ4Ajn-YyEqj"
      },
      "outputs": [],
      "source": [
        "dataset_url = 'http://storage.googleapis.com/download.tensorflow.org/data/petfinder-mini.zip'\n",
        "csv_file = 'datasets/petfinder-mini/petfinder-mini.csv'\n",
        "\n",
        "tf.keras.utils.get_file('petfinder_mini.zip', dataset_url,\n",
        "                        extract=True, cache_dir='.')\n",
        "data = pd.read_csv(csv_file)"
      ]
    },
    {
      "cell_type": "markdown",
      "metadata": {
        "id": "efa6910dfa5f"
      },
      "source": [
        "Inspect the dataset by checking the first five rows of the DataFrame:"
      ]
    },
    {
      "cell_type": "code",
      "execution_count": null,
      "metadata": {
        "execution": {
          "iopub.execute_input": "2022-07-30T01:22:10.050005Z",
          "iopub.status.busy": "2022-07-30T01:22:10.049714Z",
          "iopub.status.idle": "2022-07-30T01:22:10.065569Z",
          "shell.execute_reply": "2022-07-30T01:22:10.064794Z"
        },
        "id": "3uiq4hoIGyXI"
      },
      "outputs": [],
      "source": [
        "data.head()"
      ]
    },
    {
      "cell_type": "markdown",
      "metadata": {
        "id": "C3zDbrozyEqq"
      },
      "source": [
        "## Create a target variable\n",
        "\n",
        "`AdoptionSpeed` column contains the speed at which a pet will be adopted.\n",
        "\n",
        "\n",
        "| Column            | Description               |\n",
        "| ----------------- | ----------------------------- | \n",
        "| 0     | Pet was adopted on the same day as it was listed.                            |\n",
        "| 1     | Pet was adopted between 1 and 7 days (1st week) after being listed.          |\n",
        "| 2     | Pet was adopted between 8 and 30 days (1st month) after being listed.        |\n",
        "| 3     | Pet was adopted between 31 and 90 days (2nd & 3rd month) after being listed. |\n",
        "| 4     | No adoption after 100 days of being listed.                                  |\n",
        "\n",
        "In this tutorial, you will have to predict whether a pet was adopted or not.\n"
      ]
    },
    {
      "cell_type": "markdown",
      "source": [
        "---\n",
        "\n",
        "***Task: 1***\n",
        "\n",
        "Create a new column called `target` which contains \n",
        "`0` when the pet was not adopted, and `1` if it was.\n",
        "\n",
        "Drop the columns `AdoptionSpeed` and `Description`.\n",
        "\n",
        "---"
      ],
      "metadata": {
        "id": "r0ougNXxeRHi"
      }
    },
    {
      "cell_type": "code",
      "execution_count": null,
      "metadata": {
        "execution": {
          "iopub.execute_input": "2022-07-30T01:22:10.069038Z",
          "iopub.status.busy": "2022-07-30T01:22:10.068756Z",
          "iopub.status.idle": "2022-07-30T01:22:10.075418Z",
          "shell.execute_reply": "2022-07-30T01:22:10.074717Z"
        },
        "id": "wmMDc46-yEqq"
      },
      "outputs": [],
      "source": [
        "################\n",
        "### Solution ###\n",
        "################"
      ]
    },
    {
      "cell_type": "markdown",
      "source": [
        "## Inspecting the data closer"
      ],
      "metadata": {
        "id": "4Ht7MdMIt5n3"
      }
    },
    {
      "cell_type": "code",
      "source": [
        "numeric_columns = ['Age', 'Fee', 'PhotoAmt']\n",
        "categoric_columns = ['Type', 'Breed1', 'Gender', 'Color1', 'Color2', 'MaturitySize',\n",
        "       'FurLength', 'Vaccinated', 'Sterilized', 'Health']"
      ],
      "metadata": {
        "id": "S7Pn4onrtfOi"
      },
      "execution_count": null,
      "outputs": []
    },
    {
      "cell_type": "code",
      "source": [
        "for cat_cols in categoric_columns:\n",
        "  print(data[cat_cols].value_counts())\n",
        "  print(\"--------------------------------\")"
      ],
      "metadata": {
        "id": "_ZR63y-NuSqv"
      },
      "execution_count": null,
      "outputs": []
    },
    {
      "cell_type": "markdown",
      "source": [
        "---\n",
        "\n",
        "***Task: 2***\n",
        "\n",
        "Since the `Breed1` column has 166 different types, replace the less frequent breeds (occuring less than 100 times) with category `Rare`.\n",
        "\n",
        "---"
      ],
      "metadata": {
        "id": "NmsryqyLuv54"
      }
    },
    {
      "cell_type": "code",
      "source": [
        "################\n",
        "### Solution ###\n",
        "################\n",
        "\n",
        "data['Breed1'].value_counts()"
      ],
      "metadata": {
        "id": "bAL-LHWtuwm7"
      },
      "execution_count": null,
      "outputs": []
    },
    {
      "cell_type": "markdown",
      "source": [
        "## Categorical columns"
      ],
      "metadata": {
        "id": "4A7Ju_ytCw2D"
      }
    },
    {
      "cell_type": "code",
      "source": [
        "data.head()"
      ],
      "metadata": {
        "id": "CHHPJYlMEAZ-"
      },
      "execution_count": null,
      "outputs": []
    },
    {
      "cell_type": "markdown",
      "source": [
        "---\n",
        "\n",
        "***Task: 3***\n",
        "\n",
        "For each categoric feature in the dataset, convert it to one-hot encoded feature. The new column names should be in readable format like `is_Type_Cat`, `is_Type_Dog`, etc.\n",
        "\n",
        "---"
      ],
      "metadata": {
        "id": "2BqgRh8hFCI2"
      }
    },
    {
      "cell_type": "code",
      "source": [
        "################\n",
        "### Solution ###\n",
        "################\n",
        "\n",
        "data.head()"
      ],
      "metadata": {
        "id": "mI4XudW3Cxo1"
      },
      "execution_count": null,
      "outputs": []
    },
    {
      "cell_type": "markdown",
      "metadata": {
        "id": "sp0NCbswyEqs"
      },
      "source": [
        "## Split the DataFrame into training, validation, and test sets\n",
        "\n",
        "The dataset is in a single pandas DataFrame. Split it into training, validation, and test respectively:"
      ]
    },
    {
      "cell_type": "markdown",
      "source": [
        "---\n",
        "\n",
        "***Task: 4***\n",
        "Split the data sets in 80:10:10 ratio to `train`, `val`, and `test`.\n",
        "\n",
        "---"
      ],
      "metadata": {
        "id": "uX8w9bpEhD6k"
      }
    },
    {
      "cell_type": "code",
      "execution_count": null,
      "metadata": {
        "execution": {
          "iopub.execute_input": "2022-07-30T01:22:10.078840Z",
          "iopub.status.busy": "2022-07-30T01:22:10.078587Z",
          "iopub.status.idle": "2022-07-30T01:22:10.087002Z",
          "shell.execute_reply": "2022-07-30T01:22:10.086230Z"
        },
        "id": "XvSinthO8oMj"
      },
      "outputs": [],
      "source": [
        "################\n",
        "### Solution ###\n",
        "################"
      ]
    },
    {
      "cell_type": "code",
      "execution_count": null,
      "metadata": {
        "execution": {
          "iopub.execute_input": "2022-07-30T01:22:10.090306Z",
          "iopub.status.busy": "2022-07-30T01:22:10.089995Z",
          "iopub.status.idle": "2022-07-30T01:22:10.094370Z",
          "shell.execute_reply": "2022-07-30T01:22:10.093621Z"
        },
        "id": "U02Q1moWoPwQ"
      },
      "outputs": [],
      "source": [
        "print(f'Training examples: {len(train)}')\n",
        "print(f'Validation examples: {len(val)}')\n",
        "print(f'Test examples: {len(test)}')"
      ]
    },
    {
      "cell_type": "markdown",
      "metadata": {
        "id": "twXBSxnT66o8"
      },
      "source": [
        "## Numerical columns\n",
        "\n",
        "For each numeric feature in the dataset, standardize the distribution of the data.\n",
        "\n",
        "---\n",
        "\n",
        "***Task: 5***\n",
        "\n",
        "Complete the `get_normalized_data` function by normalizing the columns given in the list `column_names`.\n",
        "\n",
        "---"
      ]
    },
    {
      "cell_type": "code",
      "execution_count": null,
      "metadata": {
        "execution": {
          "iopub.execute_input": "2022-07-30T01:22:13.246209Z",
          "iopub.status.busy": "2022-07-30T01:22:13.245678Z",
          "iopub.status.idle": "2022-07-30T01:22:13.250378Z",
          "shell.execute_reply": "2022-07-30T01:22:13.249525Z"
        },
        "id": "D6OuEKMMyEq1"
      },
      "outputs": [],
      "source": [
        "def get_normalized_data(df, column_names):\n",
        "  ################\n",
        "  ### Solution ###\n",
        "  ################\n",
        "\n",
        "  return df"
      ]
    },
    {
      "cell_type": "code",
      "execution_count": null,
      "metadata": {
        "execution": {
          "iopub.execute_input": "2022-07-30T01:22:13.254002Z",
          "iopub.status.busy": "2022-07-30T01:22:13.253727Z",
          "iopub.status.idle": "2022-07-30T01:22:15.868385Z",
          "shell.execute_reply": "2022-07-30T01:22:15.867509Z"
        },
        "id": "MpKgUDyk69bM"
      },
      "outputs": [],
      "source": [
        "train = get_normalized_data(train, ['Age', 'Fee', 'PhotoAmt'])\n",
        "val = get_normalized_data(val, ['Age', 'Fee', 'PhotoAmt'])\n",
        "test = get_normalized_data(test, ['Age', 'Fee', 'PhotoAmt'])"
      ]
    },
    {
      "cell_type": "markdown",
      "source": [
        "Get the features and targets"
      ],
      "metadata": {
        "id": "5RbXoSvKKJWq"
      }
    },
    {
      "cell_type": "code",
      "source": [
        "y_train = train.pop('target')\n",
        "X_train = train\n",
        "\n",
        "y_val = val.pop('target')\n",
        "X_val = val\n",
        "\n",
        "y_test = test.pop('target')\n",
        "X_test = test\n",
        "\n"
      ],
      "metadata": {
        "id": "iJL29-o0KMyK"
      },
      "execution_count": null,
      "outputs": []
    },
    {
      "cell_type": "code",
      "source": [
        "print(f\"Feature shape: {X_train.shape}\")\n",
        "print(f\"Target shape: {y_train.shape}\")"
      ],
      "metadata": {
        "id": "HbolNmA0LY3t"
      },
      "execution_count": null,
      "outputs": []
    },
    {
      "cell_type": "markdown",
      "metadata": {
        "id": "YHSnhz2fyEq3"
      },
      "source": [
        "## Create, compile, and train the model\n"
      ]
    },
    {
      "cell_type": "markdown",
      "metadata": {
        "id": "IDGyN_wpo0XS"
      },
      "source": [
        "The next step is to create a model using the sequential and configure the model with Keras `Model.compile`.\n",
        "\n",
        "---\n",
        "\n",
        "***Task: 6***\n",
        "\n",
        "Complete the `create_model` function by building and compiling the model. Use 2 dense hidden layers and a dropout layer. Also choose an appropriate optimizer and loss function, and configure the model to log accuracy as a metric.\n",
        "\n",
        "---"
      ]
    },
    {
      "cell_type": "code",
      "execution_count": null,
      "metadata": {
        "execution": {
          "iopub.execute_input": "2022-07-30T01:22:23.817012Z",
          "iopub.status.busy": "2022-07-30T01:22:23.816734Z",
          "iopub.status.idle": "2022-07-30T01:22:23.861104Z",
          "shell.execute_reply": "2022-07-30T01:22:23.860310Z"
        },
        "id": "6Yrj-_pr6jyL"
      },
      "outputs": [],
      "source": [
        "def create_model():\n",
        "  ################\n",
        "  ### Solution ###\n",
        "  ################\n",
        "  return model\n",
        "\n",
        "model = create_model()\n",
        "model.summary()"
      ]
    },
    {
      "cell_type": "markdown",
      "metadata": {
        "id": "CED6OStLyEq7"
      },
      "source": [
        "Next, train and test the model:"
      ]
    },
    {
      "cell_type": "code",
      "execution_count": null,
      "metadata": {
        "execution": {
          "iopub.execute_input": "2022-07-30T01:22:23.939262Z",
          "iopub.status.busy": "2022-07-30T01:22:23.938954Z",
          "iopub.status.idle": "2022-07-30T01:22:30.814257Z",
          "shell.execute_reply": "2022-07-30T01:22:30.813070Z"
        },
        "id": "OQfE3PC6yEq8"
      },
      "outputs": [],
      "source": [
        "NUM_EPOCHS = 5\n",
        "\n",
        "training_info = model.fit(x=X_train, y=y_train, epochs=NUM_EPOCHS, validation_data=(X_val, y_val))"
      ]
    },
    {
      "cell_type": "code",
      "source": [
        "loss_history = training_info.history['loss']\n",
        "accuracy_history = training_info.history['accuracy']\n",
        "\n",
        "val_loss_history = training_info.history['val_loss']\n",
        "val_accuracy_history = training_info.history['val_accuracy']"
      ],
      "metadata": {
        "id": "Uol__Wr1QRtF"
      },
      "execution_count": null,
      "outputs": []
    },
    {
      "cell_type": "markdown",
      "source": [
        "---\n",
        "\n",
        "***Task: 7***\n",
        "\n",
        "Plot the loss and accuracy curves for both training and validation in 2 subplots.\n",
        "\n",
        "---"
      ],
      "metadata": {
        "id": "YUqXO5RHcTti"
      }
    },
    {
      "cell_type": "code",
      "source": [
        "################\n",
        "### Solution ###\n",
        "################"
      ],
      "metadata": {
        "id": "tHJahoHgRP01"
      },
      "execution_count": null,
      "outputs": []
    },
    {
      "cell_type": "code",
      "execution_count": null,
      "metadata": {
        "execution": {
          "iopub.execute_input": "2022-07-30T01:22:30.818224Z",
          "iopub.status.busy": "2022-07-30T01:22:30.817859Z",
          "iopub.status.idle": "2022-07-30T01:22:30.874720Z",
          "shell.execute_reply": "2022-07-30T01:22:30.873736Z"
        },
        "id": "T8N2uAdU2Cni"
      },
      "outputs": [],
      "source": [
        "loss, accuracy = model.evaluate(x=X_test, y=y_test)\n",
        "print(\"Accuracy\", accuracy)"
      ]
    },
    {
      "cell_type": "markdown",
      "metadata": {
        "id": "XJQQZEiH2FaB"
      },
      "source": [
        "---\n",
        "\n",
        "***Task: 8***\n",
        "\n",
        "Set up an early stopping callback to stop training if the validation loss is not decreasing in the latest 5 epochs. Create and train the model again with the callback.\n",
        "\n",
        "---\n"
      ]
    },
    {
      "cell_type": "code",
      "source": [
        "NUM_EPOCHS = 50\n",
        "\n",
        "model = create_model()\n",
        "\n",
        "################\n",
        "### Solution ###\n",
        "################"
      ],
      "metadata": {
        "id": "5p7SvF11UPsU"
      },
      "execution_count": null,
      "outputs": []
    },
    {
      "cell_type": "code",
      "source": [],
      "metadata": {
        "id": "hOKXspcgV3bf"
      },
      "execution_count": null,
      "outputs": []
    }
  ],
  "metadata": {
    "colab": {
      "collapsed_sections": [],
      "toc_visible": true,
      "provenance": []
    },
    "kernelspec": {
      "display_name": "Python 3",
      "name": "python3"
    },
    "language_info": {
      "codemirror_mode": {
        "name": "ipython",
        "version": 3
      },
      "file_extension": ".py",
      "mimetype": "text/x-python",
      "name": "python",
      "nbconvert_exporter": "python",
      "pygments_lexer": "ipython3",
      "version": "3.9.13"
    }
  },
  "nbformat": 4,
  "nbformat_minor": 0
}