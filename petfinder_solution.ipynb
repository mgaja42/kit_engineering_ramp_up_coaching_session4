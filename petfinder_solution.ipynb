{
 "cells": [
  {
   "cell_type": "markdown",
   "metadata": {
    "id": "sMYQvJuBi7MS"
   },
   "source": [
    "# Classify structured data using TensorFlow"
   ]
  },
  {
   "cell_type": "markdown",
   "metadata": {
    "id": "Nna1tOKxyEqe"
   },
   "source": [
    "This tutorial demonstrates how to classify structured data, such as tabular data, using a simplified version of the <a href=\"https://www.kaggle.com/c/petfinder-adoption-prediction\" class=\"external\">PetFinder dataset from a Kaggle competition</a> stored in a CSV file.\n",
    "\n",
    "You will use keras to define the model and to train the model. The goal is to predict if a pet will be adopted.\n"
   ]
  },
  {
   "cell_type": "markdown",
   "metadata": {
    "id": "ZHxU1FMNpomc"
   },
   "source": [
    "## The PetFinder.my mini dataset\n",
    "\n",
    "There are several thousand rows in the PetFinder.my mini's CSV dataset file, where each row describes a pet (a dog or a cat) and each column describes an attribute, such as age, breed, color, and so on.\n",
    "\n",
    "In the dataset's summary below, notice there are mostly numerical and categorical columns. In this tutorial, you will only be dealing with those two feature types, dropping `Description` (a free text feature) and `AdoptionSpeed` (a classification feature) during data preprocessing.\n",
    "\n",
    "| Column          | Pet description               | Feature type   | Data type |\n",
    "| --------------- | ----------------------------- | -------------- | --------- |\n",
    "| `Type`          | Type of animal (`Dog`, `Cat`) | Categorical    | String    |\n",
    "| `Age`           | Age                           | Numerical      | Integer   |\n",
    "| `Breed1`        | Primary breed                 | Categorical    | String    |\n",
    "| `Color1`        | Color 1                       | Categorical    | String    |\n",
    "| `Color2`        | Color 2                       | Categorical    | String    |\n",
    "| `MaturitySize`  | Size at maturity              | Categorical    | String    |\n",
    "| `FurLength`     | Fur length                    | Categorical    | String    |\n",
    "| `Vaccinated`    | Pet has been vaccinated       | Categorical    | String    |\n",
    "| `Sterilized`    | Pet has been sterilized       | Categorical    | String    |\n",
    "| `Health`        | Health condition              | Categorical    | String    |\n",
    "| `Fee`           | Adoption fee                  | Numerical      | Integer   |\n",
    "| `Description`   | Profile write-up              | Text           | String    |\n",
    "| `PhotoAmt`      | Total uploaded photos         | Numerical      | Integer   |\n",
    "| `AdoptionSpeed` | Categorical speed of adoption | Classification | Integer   |"
   ]
  },
  {
   "cell_type": "markdown",
   "metadata": {
    "id": "vjFbdBldyEqf"
   },
   "source": [
    "## Import TensorFlow and other libraries\n"
   ]
  },
  {
   "cell_type": "code",
   "execution_count": 53,
   "metadata": {
    "execution": {
     "iopub.execute_input": "2022-07-30T01:22:07.518100Z",
     "iopub.status.busy": "2022-07-30T01:22:07.517820Z",
     "iopub.status.idle": "2022-07-30T01:22:09.693589Z",
     "shell.execute_reply": "2022-07-30T01:22:09.692661Z"
    },
    "id": "LklnLlt6yEqf"
   },
   "outputs": [],
   "source": [
    "import numpy as np\n",
    "import pandas as pd\n",
    "import tensorflow as tf\n",
    "import sklearn\n",
    "import matplotlib.pyplot as plt\n",
    "\n",
    "SEED = 12\n",
    "np.random.seed(SEED)\n",
    "tf.random.set_seed(SEED)"
   ]
  },
  {
   "cell_type": "markdown",
   "metadata": {
    "id": "UXvBvobayEqi"
   },
   "source": [
    "## Load the dataset and read it into a pandas DataFrame\n",
    "\n",
    "Use `tf.keras.utils.get_file` to download and extract the CSV file with the PetFinder.my mini dataset, and load it into a dataframe.\n"
   ]
  },
  {
   "cell_type": "code",
   "execution_count": 26,
   "metadata": {
    "execution": {
     "iopub.execute_input": "2022-07-30T01:22:09.750213Z",
     "iopub.status.busy": "2022-07-30T01:22:09.749918Z",
     "iopub.status.idle": "2022-07-30T01:22:10.045828Z",
     "shell.execute_reply": "2022-07-30T01:22:10.044845Z"
    },
    "id": "qJ4Ajn-YyEqj"
   },
   "outputs": [],
   "source": [
    "dataset_url = 'http://storage.googleapis.com/download.tensorflow.org/data/petfinder-mini.zip'\n",
    "csv_file = 'datasets/petfinder-mini/petfinder-mini.csv'\n",
    "\n",
    "tf.keras.utils.get_file('petfinder_mini.zip', dataset_url,\n",
    "                        extract=True, cache_dir='.')\n",
    "data = pd.read_csv(csv_file)"
   ]
  },
  {
   "cell_type": "markdown",
   "metadata": {
    "id": "efa6910dfa5f"
   },
   "source": [
    "Inspect the dataset by checking the first five rows of the DataFrame:"
   ]
  },
  {
   "cell_type": "code",
   "execution_count": 27,
   "metadata": {
    "colab": {
     "base_uri": "https://localhost:8080/",
     "height": 548
    },
    "execution": {
     "iopub.execute_input": "2022-07-30T01:22:10.050005Z",
     "iopub.status.busy": "2022-07-30T01:22:10.049714Z",
     "iopub.status.idle": "2022-07-30T01:22:10.065569Z",
     "shell.execute_reply": "2022-07-30T01:22:10.064794Z"
    },
    "id": "3uiq4hoIGyXI",
    "outputId": "93d311e8-d127-47da-a9af-bb32e4feb33a"
   },
   "outputs": [
    {
     "data": {
      "text/html": [
       "\n",
       "  <div id=\"df-773513a5-f930-4a3a-b86e-3f5075cf4060\">\n",
       "    <div class=\"colab-df-container\">\n",
       "      <div>\n",
       "<style scoped>\n",
       "    .dataframe tbody tr th:only-of-type {\n",
       "        vertical-align: middle;\n",
       "    }\n",
       "\n",
       "    .dataframe tbody tr th {\n",
       "        vertical-align: top;\n",
       "    }\n",
       "\n",
       "    .dataframe thead th {\n",
       "        text-align: right;\n",
       "    }\n",
       "</style>\n",
       "<table border=\"1\" class=\"dataframe\">\n",
       "  <thead>\n",
       "    <tr style=\"text-align: right;\">\n",
       "      <th></th>\n",
       "      <th>Type</th>\n",
       "      <th>Age</th>\n",
       "      <th>Breed1</th>\n",
       "      <th>Gender</th>\n",
       "      <th>Color1</th>\n",
       "      <th>Color2</th>\n",
       "      <th>MaturitySize</th>\n",
       "      <th>FurLength</th>\n",
       "      <th>Vaccinated</th>\n",
       "      <th>Sterilized</th>\n",
       "      <th>Health</th>\n",
       "      <th>Fee</th>\n",
       "      <th>Description</th>\n",
       "      <th>PhotoAmt</th>\n",
       "      <th>AdoptionSpeed</th>\n",
       "    </tr>\n",
       "  </thead>\n",
       "  <tbody>\n",
       "    <tr>\n",
       "      <th>0</th>\n",
       "      <td>Cat</td>\n",
       "      <td>3</td>\n",
       "      <td>Tabby</td>\n",
       "      <td>Male</td>\n",
       "      <td>Black</td>\n",
       "      <td>White</td>\n",
       "      <td>Small</td>\n",
       "      <td>Short</td>\n",
       "      <td>No</td>\n",
       "      <td>No</td>\n",
       "      <td>Healthy</td>\n",
       "      <td>100</td>\n",
       "      <td>Nibble is a 3+ month old ball of cuteness. He ...</td>\n",
       "      <td>1</td>\n",
       "      <td>2</td>\n",
       "    </tr>\n",
       "    <tr>\n",
       "      <th>1</th>\n",
       "      <td>Cat</td>\n",
       "      <td>1</td>\n",
       "      <td>Domestic Medium Hair</td>\n",
       "      <td>Male</td>\n",
       "      <td>Black</td>\n",
       "      <td>Brown</td>\n",
       "      <td>Medium</td>\n",
       "      <td>Medium</td>\n",
       "      <td>Not Sure</td>\n",
       "      <td>Not Sure</td>\n",
       "      <td>Healthy</td>\n",
       "      <td>0</td>\n",
       "      <td>I just found it alone yesterday near my apartm...</td>\n",
       "      <td>2</td>\n",
       "      <td>0</td>\n",
       "    </tr>\n",
       "    <tr>\n",
       "      <th>2</th>\n",
       "      <td>Dog</td>\n",
       "      <td>1</td>\n",
       "      <td>Mixed Breed</td>\n",
       "      <td>Male</td>\n",
       "      <td>Brown</td>\n",
       "      <td>White</td>\n",
       "      <td>Medium</td>\n",
       "      <td>Medium</td>\n",
       "      <td>Yes</td>\n",
       "      <td>No</td>\n",
       "      <td>Healthy</td>\n",
       "      <td>0</td>\n",
       "      <td>Their pregnant mother was dumped by her irresp...</td>\n",
       "      <td>7</td>\n",
       "      <td>3</td>\n",
       "    </tr>\n",
       "    <tr>\n",
       "      <th>3</th>\n",
       "      <td>Dog</td>\n",
       "      <td>4</td>\n",
       "      <td>Mixed Breed</td>\n",
       "      <td>Female</td>\n",
       "      <td>Black</td>\n",
       "      <td>Brown</td>\n",
       "      <td>Medium</td>\n",
       "      <td>Short</td>\n",
       "      <td>Yes</td>\n",
       "      <td>No</td>\n",
       "      <td>Healthy</td>\n",
       "      <td>150</td>\n",
       "      <td>Good guard dog, very alert, active, obedience ...</td>\n",
       "      <td>8</td>\n",
       "      <td>2</td>\n",
       "    </tr>\n",
       "    <tr>\n",
       "      <th>4</th>\n",
       "      <td>Dog</td>\n",
       "      <td>1</td>\n",
       "      <td>Mixed Breed</td>\n",
       "      <td>Male</td>\n",
       "      <td>Black</td>\n",
       "      <td>No Color</td>\n",
       "      <td>Medium</td>\n",
       "      <td>Short</td>\n",
       "      <td>No</td>\n",
       "      <td>No</td>\n",
       "      <td>Healthy</td>\n",
       "      <td>0</td>\n",
       "      <td>This handsome yet cute boy is up for adoption....</td>\n",
       "      <td>3</td>\n",
       "      <td>2</td>\n",
       "    </tr>\n",
       "  </tbody>\n",
       "</table>\n",
       "</div>\n",
       "      <button class=\"colab-df-convert\" onclick=\"convertToInteractive('df-773513a5-f930-4a3a-b86e-3f5075cf4060')\"\n",
       "              title=\"Convert this dataframe to an interactive table.\"\n",
       "              style=\"display:none;\">\n",
       "        \n",
       "  <svg xmlns=\"http://www.w3.org/2000/svg\" height=\"24px\"viewBox=\"0 0 24 24\"\n",
       "       width=\"24px\">\n",
       "    <path d=\"M0 0h24v24H0V0z\" fill=\"none\"/>\n",
       "    <path d=\"M18.56 5.44l.94 2.06.94-2.06 2.06-.94-2.06-.94-.94-2.06-.94 2.06-2.06.94zm-11 1L8.5 8.5l.94-2.06 2.06-.94-2.06-.94L8.5 2.5l-.94 2.06-2.06.94zm10 10l.94 2.06.94-2.06 2.06-.94-2.06-.94-.94-2.06-.94 2.06-2.06.94z\"/><path d=\"M17.41 7.96l-1.37-1.37c-.4-.4-.92-.59-1.43-.59-.52 0-1.04.2-1.43.59L10.3 9.45l-7.72 7.72c-.78.78-.78 2.05 0 2.83L4 21.41c.39.39.9.59 1.41.59.51 0 1.02-.2 1.41-.59l7.78-7.78 2.81-2.81c.8-.78.8-2.07 0-2.86zM5.41 20L4 18.59l7.72-7.72 1.47 1.35L5.41 20z\"/>\n",
       "  </svg>\n",
       "      </button>\n",
       "      \n",
       "  <style>\n",
       "    .colab-df-container {\n",
       "      display:flex;\n",
       "      flex-wrap:wrap;\n",
       "      gap: 12px;\n",
       "    }\n",
       "\n",
       "    .colab-df-convert {\n",
       "      background-color: #E8F0FE;\n",
       "      border: none;\n",
       "      border-radius: 50%;\n",
       "      cursor: pointer;\n",
       "      display: none;\n",
       "      fill: #1967D2;\n",
       "      height: 32px;\n",
       "      padding: 0 0 0 0;\n",
       "      width: 32px;\n",
       "    }\n",
       "\n",
       "    .colab-df-convert:hover {\n",
       "      background-color: #E2EBFA;\n",
       "      box-shadow: 0px 1px 2px rgba(60, 64, 67, 0.3), 0px 1px 3px 1px rgba(60, 64, 67, 0.15);\n",
       "      fill: #174EA6;\n",
       "    }\n",
       "\n",
       "    [theme=dark] .colab-df-convert {\n",
       "      background-color: #3B4455;\n",
       "      fill: #D2E3FC;\n",
       "    }\n",
       "\n",
       "    [theme=dark] .colab-df-convert:hover {\n",
       "      background-color: #434B5C;\n",
       "      box-shadow: 0px 1px 3px 1px rgba(0, 0, 0, 0.15);\n",
       "      filter: drop-shadow(0px 1px 2px rgba(0, 0, 0, 0.3));\n",
       "      fill: #FFFFFF;\n",
       "    }\n",
       "  </style>\n",
       "\n",
       "      <script>\n",
       "        const buttonEl =\n",
       "          document.querySelector('#df-773513a5-f930-4a3a-b86e-3f5075cf4060 button.colab-df-convert');\n",
       "        buttonEl.style.display =\n",
       "          google.colab.kernel.accessAllowed ? 'block' : 'none';\n",
       "\n",
       "        async function convertToInteractive(key) {\n",
       "          const element = document.querySelector('#df-773513a5-f930-4a3a-b86e-3f5075cf4060');\n",
       "          const dataTable =\n",
       "            await google.colab.kernel.invokeFunction('convertToInteractive',\n",
       "                                                     [key], {});\n",
       "          if (!dataTable) return;\n",
       "\n",
       "          const docLinkHtml = 'Like what you see? Visit the ' +\n",
       "            '<a target=\"_blank\" href=https://colab.research.google.com/notebooks/data_table.ipynb>data table notebook</a>'\n",
       "            + ' to learn more about interactive tables.';\n",
       "          element.innerHTML = '';\n",
       "          dataTable['output_type'] = 'display_data';\n",
       "          await google.colab.output.renderOutput(dataTable, element);\n",
       "          const docLink = document.createElement('div');\n",
       "          docLink.innerHTML = docLinkHtml;\n",
       "          element.appendChild(docLink);\n",
       "        }\n",
       "      </script>\n",
       "    </div>\n",
       "  </div>\n",
       "  "
      ],
      "text/plain": [
       "  Type  Age                Breed1  Gender Color1    Color2 MaturitySize  \\\n",
       "0  Cat    3                 Tabby    Male  Black     White        Small   \n",
       "1  Cat    1  Domestic Medium Hair    Male  Black     Brown       Medium   \n",
       "2  Dog    1           Mixed Breed    Male  Brown     White       Medium   \n",
       "3  Dog    4           Mixed Breed  Female  Black     Brown       Medium   \n",
       "4  Dog    1           Mixed Breed    Male  Black  No Color       Medium   \n",
       "\n",
       "  FurLength Vaccinated Sterilized   Health  Fee  \\\n",
       "0     Short         No         No  Healthy  100   \n",
       "1    Medium   Not Sure   Not Sure  Healthy    0   \n",
       "2    Medium        Yes         No  Healthy    0   \n",
       "3     Short        Yes         No  Healthy  150   \n",
       "4     Short         No         No  Healthy    0   \n",
       "\n",
       "                                         Description  PhotoAmt  AdoptionSpeed  \n",
       "0  Nibble is a 3+ month old ball of cuteness. He ...         1              2  \n",
       "1  I just found it alone yesterday near my apartm...         2              0  \n",
       "2  Their pregnant mother was dumped by her irresp...         7              3  \n",
       "3  Good guard dog, very alert, active, obedience ...         8              2  \n",
       "4  This handsome yet cute boy is up for adoption....         3              2  "
      ]
     },
     "execution_count": 27,
     "metadata": {},
     "output_type": "execute_result"
    }
   ],
   "source": [
    "data.head()"
   ]
  },
  {
   "cell_type": "markdown",
   "metadata": {
    "id": "C3zDbrozyEqq"
   },
   "source": [
    "## Create a target variable\n",
    "\n",
    "`AdoptionSpeed` column contains the speed at which a pet will be adopted.\n",
    "\n",
    "\n",
    "| Column            | Description               |\n",
    "| ----------------- | ----------------------------- | \n",
    "| 0     | Pet was adopted on the same day as it was listed.                            |\n",
    "| 1     | Pet was adopted between 1 and 7 days (1st week) after being listed.          |\n",
    "| 2     | Pet was adopted between 8 and 30 days (1st month) after being listed.        |\n",
    "| 3     | Pet was adopted between 31 and 90 days (2nd & 3rd month) after being listed. |\n",
    "| 4     | No adoption after 100 days of being listed.                                  |\n",
    "\n",
    "In this tutorial, you will have to predict whether a pet was adopted or not.\n"
   ]
  },
  {
   "cell_type": "markdown",
   "metadata": {
    "id": "r0ougNXxeRHi"
   },
   "source": [
    "---\n",
    "\n",
    "***Task: 1***\n",
    "\n",
    "Create a new column called `target` which contains \n",
    "`0` when the pet was not adopted, and `1` if it was.\n",
    "\n",
    "Drop the columns `AdoptionSpeed` and `Description`.\n",
    "\n",
    "---"
   ]
  },
  {
   "cell_type": "code",
   "execution_count": 28,
   "metadata": {
    "execution": {
     "iopub.execute_input": "2022-07-30T01:22:10.069038Z",
     "iopub.status.busy": "2022-07-30T01:22:10.068756Z",
     "iopub.status.idle": "2022-07-30T01:22:10.075418Z",
     "shell.execute_reply": "2022-07-30T01:22:10.074717Z"
    },
    "id": "wmMDc46-yEqq"
   },
   "outputs": [],
   "source": [
    "data['target'] = np.where(data['AdoptionSpeed']==4, 0, 1)\n",
    "\n",
    "# Drop unused features.\n",
    "data = data.drop(columns=['AdoptionSpeed', 'Description'])"
   ]
  },
  {
   "cell_type": "markdown",
   "metadata": {
    "id": "4Ht7MdMIt5n3"
   },
   "source": [
    "## Inspecting the data closer"
   ]
  },
  {
   "cell_type": "code",
   "execution_count": 29,
   "metadata": {
    "id": "S7Pn4onrtfOi"
   },
   "outputs": [],
   "source": [
    "numeric_columns = ['Age', 'Fee', 'PhotoAmt']\n",
    "categoric_columns = ['Type', 'Breed1', 'Gender', 'Color1', 'Color2', 'MaturitySize',\n",
    "       'FurLength', 'Vaccinated', 'Sterilized', 'Health']"
   ]
  },
  {
   "cell_type": "code",
   "execution_count": 30,
   "metadata": {
    "colab": {
     "base_uri": "https://localhost:8080/"
    },
    "id": "_ZR63y-NuSqv",
    "outputId": "0561e8b1-9c73-4bd6-e2fa-6d4cc21710f0"
   },
   "outputs": [
    {
     "name": "stdout",
     "output_type": "stream",
     "text": [
      "Dog    6601\n",
      "Cat    4936\n",
      "Name: Type, dtype: int64\n",
      "--------------------------------\n",
      "Mixed Breed             4629\n",
      "Domestic Short Hair     2605\n",
      "Domestic Medium Hair     865\n",
      "Tabby                    242\n",
      "Domestic Long Hair       223\n",
      "                        ... \n",
      "Bedlington Terrier         1\n",
      "American Bulldog           1\n",
      "Rhodesian Ridgeback        1\n",
      "Setter                     1\n",
      "Dutch Shepherd             1\n",
      "Name: Breed1, Length: 166, dtype: int64\n",
      "--------------------------------\n",
      "Female    6466\n",
      "Male      5071\n",
      "Name: Gender, dtype: int64\n",
      "--------------------------------\n",
      "Black     5241\n",
      "Brown     3075\n",
      "Golden     789\n",
      "Cream      765\n",
      "White      593\n",
      "Gray       575\n",
      "Yellow     499\n",
      "Name: Color1, dtype: int64\n",
      "--------------------------------\n",
      "No Color    3968\n",
      "White       2920\n",
      "Brown       2203\n",
      "Cream        788\n",
      "Gray         659\n",
      "Yellow       535\n",
      "Golden       464\n",
      "Name: Color2, dtype: int64\n",
      "--------------------------------\n",
      "Medium    8016\n",
      "Small     2480\n",
      "Large     1041\n",
      "Name: MaturitySize, dtype: int64\n",
      "--------------------------------\n",
      "Short     6676\n",
      "Medium    4152\n",
      "Long       709\n",
      "Name: FurLength, dtype: int64\n",
      "--------------------------------\n",
      "Yes         5060\n",
      "No          4962\n",
      "Not Sure    1515\n",
      "Name: Vaccinated, dtype: int64\n",
      "--------------------------------\n",
      "No          7497\n",
      "Yes         2697\n",
      "Not Sure    1343\n",
      "Name: Sterilized, dtype: int64\n",
      "--------------------------------\n",
      "Healthy           11098\n",
      "Minor Injury        409\n",
      "Serious Injury       30\n",
      "Name: Health, dtype: int64\n",
      "--------------------------------\n"
     ]
    }
   ],
   "source": [
    "for cat_cols in categoric_columns:\n",
    "  print(data[cat_cols].value_counts())\n",
    "  print(\"--------------------------------\")"
   ]
  },
  {
   "cell_type": "markdown",
   "metadata": {
    "id": "NmsryqyLuv54"
   },
   "source": [
    "---\n",
    "\n",
    "***Task: 2***\n",
    "\n",
    "Since the `Breed1` column has 166 different types, replace the less frequent breeds (occuring less than 100 times) with category `Rare`.\n",
    "\n",
    "---"
   ]
  },
  {
   "cell_type": "code",
   "execution_count": 31,
   "metadata": {
    "colab": {
     "base_uri": "https://localhost:8080/"
    },
    "id": "bAL-LHWtuwm7",
    "outputId": "3f4917fd-cec3-4400-db52-ad0a51084285"
   },
   "outputs": [
    {
     "data": {
      "text/plain": [
       "Mixed Breed             4629\n",
       "Domestic Short Hair     2605\n",
       "Rare                    1804\n",
       "Domestic Medium Hair     865\n",
       "Tabby                    242\n",
       "Domestic Long Hair       223\n",
       "Siamese                  202\n",
       "Shih Tzu                 178\n",
       "Persian                  177\n",
       "Labrador Retriever       175\n",
       "Poodle                   161\n",
       "Terrier                  143\n",
       "Golden Retriever         133\n",
       "Name: Breed1, dtype: int64"
      ]
     },
     "execution_count": 31,
     "metadata": {},
     "output_type": "execute_result"
    }
   ],
   "source": [
    "freq_breeds = data['Breed1'].value_counts()[data['Breed1'].value_counts() > 100].index.to_list()\n",
    "data['Breed1'] = data['Breed1'].apply(lambda x: 'Rare' if x not in freq_breeds else x)\n",
    "\n",
    "data['Breed1'].value_counts()"
   ]
  },
  {
   "cell_type": "markdown",
   "metadata": {
    "id": "4A7Ju_ytCw2D"
   },
   "source": [
    "## Categorical columns"
   ]
  },
  {
   "cell_type": "code",
   "execution_count": 32,
   "metadata": {
    "colab": {
     "base_uri": "https://localhost:8080/",
     "height": 357
    },
    "id": "CHHPJYlMEAZ-",
    "outputId": "140e9d18-c5f2-421f-a64a-34384441f1b5"
   },
   "outputs": [
    {
     "data": {
      "text/html": [
       "\n",
       "  <div id=\"df-dfe6b946-aa5e-472a-9d9c-b69508a0dd76\">\n",
       "    <div class=\"colab-df-container\">\n",
       "      <div>\n",
       "<style scoped>\n",
       "    .dataframe tbody tr th:only-of-type {\n",
       "        vertical-align: middle;\n",
       "    }\n",
       "\n",
       "    .dataframe tbody tr th {\n",
       "        vertical-align: top;\n",
       "    }\n",
       "\n",
       "    .dataframe thead th {\n",
       "        text-align: right;\n",
       "    }\n",
       "</style>\n",
       "<table border=\"1\" class=\"dataframe\">\n",
       "  <thead>\n",
       "    <tr style=\"text-align: right;\">\n",
       "      <th></th>\n",
       "      <th>Type</th>\n",
       "      <th>Age</th>\n",
       "      <th>Breed1</th>\n",
       "      <th>Gender</th>\n",
       "      <th>Color1</th>\n",
       "      <th>Color2</th>\n",
       "      <th>MaturitySize</th>\n",
       "      <th>FurLength</th>\n",
       "      <th>Vaccinated</th>\n",
       "      <th>Sterilized</th>\n",
       "      <th>Health</th>\n",
       "      <th>Fee</th>\n",
       "      <th>PhotoAmt</th>\n",
       "      <th>target</th>\n",
       "    </tr>\n",
       "  </thead>\n",
       "  <tbody>\n",
       "    <tr>\n",
       "      <th>0</th>\n",
       "      <td>Cat</td>\n",
       "      <td>3</td>\n",
       "      <td>Tabby</td>\n",
       "      <td>Male</td>\n",
       "      <td>Black</td>\n",
       "      <td>White</td>\n",
       "      <td>Small</td>\n",
       "      <td>Short</td>\n",
       "      <td>No</td>\n",
       "      <td>No</td>\n",
       "      <td>Healthy</td>\n",
       "      <td>100</td>\n",
       "      <td>1</td>\n",
       "      <td>1</td>\n",
       "    </tr>\n",
       "    <tr>\n",
       "      <th>1</th>\n",
       "      <td>Cat</td>\n",
       "      <td>1</td>\n",
       "      <td>Domestic Medium Hair</td>\n",
       "      <td>Male</td>\n",
       "      <td>Black</td>\n",
       "      <td>Brown</td>\n",
       "      <td>Medium</td>\n",
       "      <td>Medium</td>\n",
       "      <td>Not Sure</td>\n",
       "      <td>Not Sure</td>\n",
       "      <td>Healthy</td>\n",
       "      <td>0</td>\n",
       "      <td>2</td>\n",
       "      <td>1</td>\n",
       "    </tr>\n",
       "    <tr>\n",
       "      <th>2</th>\n",
       "      <td>Dog</td>\n",
       "      <td>1</td>\n",
       "      <td>Mixed Breed</td>\n",
       "      <td>Male</td>\n",
       "      <td>Brown</td>\n",
       "      <td>White</td>\n",
       "      <td>Medium</td>\n",
       "      <td>Medium</td>\n",
       "      <td>Yes</td>\n",
       "      <td>No</td>\n",
       "      <td>Healthy</td>\n",
       "      <td>0</td>\n",
       "      <td>7</td>\n",
       "      <td>1</td>\n",
       "    </tr>\n",
       "    <tr>\n",
       "      <th>3</th>\n",
       "      <td>Dog</td>\n",
       "      <td>4</td>\n",
       "      <td>Mixed Breed</td>\n",
       "      <td>Female</td>\n",
       "      <td>Black</td>\n",
       "      <td>Brown</td>\n",
       "      <td>Medium</td>\n",
       "      <td>Short</td>\n",
       "      <td>Yes</td>\n",
       "      <td>No</td>\n",
       "      <td>Healthy</td>\n",
       "      <td>150</td>\n",
       "      <td>8</td>\n",
       "      <td>1</td>\n",
       "    </tr>\n",
       "    <tr>\n",
       "      <th>4</th>\n",
       "      <td>Dog</td>\n",
       "      <td>1</td>\n",
       "      <td>Mixed Breed</td>\n",
       "      <td>Male</td>\n",
       "      <td>Black</td>\n",
       "      <td>No Color</td>\n",
       "      <td>Medium</td>\n",
       "      <td>Short</td>\n",
       "      <td>No</td>\n",
       "      <td>No</td>\n",
       "      <td>Healthy</td>\n",
       "      <td>0</td>\n",
       "      <td>3</td>\n",
       "      <td>1</td>\n",
       "    </tr>\n",
       "  </tbody>\n",
       "</table>\n",
       "</div>\n",
       "      <button class=\"colab-df-convert\" onclick=\"convertToInteractive('df-dfe6b946-aa5e-472a-9d9c-b69508a0dd76')\"\n",
       "              title=\"Convert this dataframe to an interactive table.\"\n",
       "              style=\"display:none;\">\n",
       "        \n",
       "  <svg xmlns=\"http://www.w3.org/2000/svg\" height=\"24px\"viewBox=\"0 0 24 24\"\n",
       "       width=\"24px\">\n",
       "    <path d=\"M0 0h24v24H0V0z\" fill=\"none\"/>\n",
       "    <path d=\"M18.56 5.44l.94 2.06.94-2.06 2.06-.94-2.06-.94-.94-2.06-.94 2.06-2.06.94zm-11 1L8.5 8.5l.94-2.06 2.06-.94-2.06-.94L8.5 2.5l-.94 2.06-2.06.94zm10 10l.94 2.06.94-2.06 2.06-.94-2.06-.94-.94-2.06-.94 2.06-2.06.94z\"/><path d=\"M17.41 7.96l-1.37-1.37c-.4-.4-.92-.59-1.43-.59-.52 0-1.04.2-1.43.59L10.3 9.45l-7.72 7.72c-.78.78-.78 2.05 0 2.83L4 21.41c.39.39.9.59 1.41.59.51 0 1.02-.2 1.41-.59l7.78-7.78 2.81-2.81c.8-.78.8-2.07 0-2.86zM5.41 20L4 18.59l7.72-7.72 1.47 1.35L5.41 20z\"/>\n",
       "  </svg>\n",
       "      </button>\n",
       "      \n",
       "  <style>\n",
       "    .colab-df-container {\n",
       "      display:flex;\n",
       "      flex-wrap:wrap;\n",
       "      gap: 12px;\n",
       "    }\n",
       "\n",
       "    .colab-df-convert {\n",
       "      background-color: #E8F0FE;\n",
       "      border: none;\n",
       "      border-radius: 50%;\n",
       "      cursor: pointer;\n",
       "      display: none;\n",
       "      fill: #1967D2;\n",
       "      height: 32px;\n",
       "      padding: 0 0 0 0;\n",
       "      width: 32px;\n",
       "    }\n",
       "\n",
       "    .colab-df-convert:hover {\n",
       "      background-color: #E2EBFA;\n",
       "      box-shadow: 0px 1px 2px rgba(60, 64, 67, 0.3), 0px 1px 3px 1px rgba(60, 64, 67, 0.15);\n",
       "      fill: #174EA6;\n",
       "    }\n",
       "\n",
       "    [theme=dark] .colab-df-convert {\n",
       "      background-color: #3B4455;\n",
       "      fill: #D2E3FC;\n",
       "    }\n",
       "\n",
       "    [theme=dark] .colab-df-convert:hover {\n",
       "      background-color: #434B5C;\n",
       "      box-shadow: 0px 1px 3px 1px rgba(0, 0, 0, 0.15);\n",
       "      filter: drop-shadow(0px 1px 2px rgba(0, 0, 0, 0.3));\n",
       "      fill: #FFFFFF;\n",
       "    }\n",
       "  </style>\n",
       "\n",
       "      <script>\n",
       "        const buttonEl =\n",
       "          document.querySelector('#df-dfe6b946-aa5e-472a-9d9c-b69508a0dd76 button.colab-df-convert');\n",
       "        buttonEl.style.display =\n",
       "          google.colab.kernel.accessAllowed ? 'block' : 'none';\n",
       "\n",
       "        async function convertToInteractive(key) {\n",
       "          const element = document.querySelector('#df-dfe6b946-aa5e-472a-9d9c-b69508a0dd76');\n",
       "          const dataTable =\n",
       "            await google.colab.kernel.invokeFunction('convertToInteractive',\n",
       "                                                     [key], {});\n",
       "          if (!dataTable) return;\n",
       "\n",
       "          const docLinkHtml = 'Like what you see? Visit the ' +\n",
       "            '<a target=\"_blank\" href=https://colab.research.google.com/notebooks/data_table.ipynb>data table notebook</a>'\n",
       "            + ' to learn more about interactive tables.';\n",
       "          element.innerHTML = '';\n",
       "          dataTable['output_type'] = 'display_data';\n",
       "          await google.colab.output.renderOutput(dataTable, element);\n",
       "          const docLink = document.createElement('div');\n",
       "          docLink.innerHTML = docLinkHtml;\n",
       "          element.appendChild(docLink);\n",
       "        }\n",
       "      </script>\n",
       "    </div>\n",
       "  </div>\n",
       "  "
      ],
      "text/plain": [
       "  Type  Age                Breed1  Gender Color1    Color2 MaturitySize  \\\n",
       "0  Cat    3                 Tabby    Male  Black     White        Small   \n",
       "1  Cat    1  Domestic Medium Hair    Male  Black     Brown       Medium   \n",
       "2  Dog    1           Mixed Breed    Male  Brown     White       Medium   \n",
       "3  Dog    4           Mixed Breed  Female  Black     Brown       Medium   \n",
       "4  Dog    1           Mixed Breed    Male  Black  No Color       Medium   \n",
       "\n",
       "  FurLength Vaccinated Sterilized   Health  Fee  PhotoAmt  target  \n",
       "0     Short         No         No  Healthy  100         1       1  \n",
       "1    Medium   Not Sure   Not Sure  Healthy    0         2       1  \n",
       "2    Medium        Yes         No  Healthy    0         7       1  \n",
       "3     Short        Yes         No  Healthy  150         8       1  \n",
       "4     Short         No         No  Healthy    0         3       1  "
      ]
     },
     "execution_count": 32,
     "metadata": {},
     "output_type": "execute_result"
    }
   ],
   "source": [
    "data.head()"
   ]
  },
  {
   "cell_type": "markdown",
   "metadata": {
    "id": "2BqgRh8hFCI2"
   },
   "source": [
    "---\n",
    "\n",
    "***Task: 3***\n",
    "\n",
    "For each categoric feature in the dataset, convert it to one-hot encoded feature. The new column names should be in readable format like `is_Type_Cat`, `is_Type_Dog`, etc.\n",
    "\n",
    "---"
   ]
  },
  {
   "cell_type": "code",
   "execution_count": 33,
   "metadata": {
    "colab": {
     "base_uri": "https://localhost:8080/",
     "height": 317
    },
    "id": "mI4XudW3Cxo1",
    "outputId": "a66c3a89-4057-4be7-ac9a-707dd3086bb9"
   },
   "outputs": [
    {
     "data": {
      "text/html": [
       "\n",
       "  <div id=\"df-adea0d2f-3ac0-4a31-ae92-fe0736581170\">\n",
       "    <div class=\"colab-df-container\">\n",
       "      <div>\n",
       "<style scoped>\n",
       "    .dataframe tbody tr th:only-of-type {\n",
       "        vertical-align: middle;\n",
       "    }\n",
       "\n",
       "    .dataframe tbody tr th {\n",
       "        vertical-align: top;\n",
       "    }\n",
       "\n",
       "    .dataframe thead th {\n",
       "        text-align: right;\n",
       "    }\n",
       "</style>\n",
       "<table border=\"1\" class=\"dataframe\">\n",
       "  <thead>\n",
       "    <tr style=\"text-align: right;\">\n",
       "      <th></th>\n",
       "      <th>Age</th>\n",
       "      <th>Fee</th>\n",
       "      <th>PhotoAmt</th>\n",
       "      <th>target</th>\n",
       "      <th>is_Type_Cat</th>\n",
       "      <th>is_Type_Dog</th>\n",
       "      <th>is_Breed1_Domestic Long Hair</th>\n",
       "      <th>is_Breed1_Domestic Medium Hair</th>\n",
       "      <th>is_Breed1_Domestic Short Hair</th>\n",
       "      <th>is_Breed1_Golden Retriever</th>\n",
       "      <th>...</th>\n",
       "      <th>is_FurLength_Short</th>\n",
       "      <th>is_Vaccinated_No</th>\n",
       "      <th>is_Vaccinated_Not Sure</th>\n",
       "      <th>is_Vaccinated_Yes</th>\n",
       "      <th>is_Sterilized_No</th>\n",
       "      <th>is_Sterilized_Not Sure</th>\n",
       "      <th>is_Sterilized_Yes</th>\n",
       "      <th>is_Health_Healthy</th>\n",
       "      <th>is_Health_Minor Injury</th>\n",
       "      <th>is_Health_Serious Injury</th>\n",
       "    </tr>\n",
       "  </thead>\n",
       "  <tbody>\n",
       "    <tr>\n",
       "      <th>0</th>\n",
       "      <td>3</td>\n",
       "      <td>100</td>\n",
       "      <td>1</td>\n",
       "      <td>1</td>\n",
       "      <td>1</td>\n",
       "      <td>0</td>\n",
       "      <td>0</td>\n",
       "      <td>0</td>\n",
       "      <td>0</td>\n",
       "      <td>0</td>\n",
       "      <td>...</td>\n",
       "      <td>1</td>\n",
       "      <td>1</td>\n",
       "      <td>0</td>\n",
       "      <td>0</td>\n",
       "      <td>1</td>\n",
       "      <td>0</td>\n",
       "      <td>0</td>\n",
       "      <td>1</td>\n",
       "      <td>0</td>\n",
       "      <td>0</td>\n",
       "    </tr>\n",
       "    <tr>\n",
       "      <th>1</th>\n",
       "      <td>1</td>\n",
       "      <td>0</td>\n",
       "      <td>2</td>\n",
       "      <td>1</td>\n",
       "      <td>1</td>\n",
       "      <td>0</td>\n",
       "      <td>0</td>\n",
       "      <td>1</td>\n",
       "      <td>0</td>\n",
       "      <td>0</td>\n",
       "      <td>...</td>\n",
       "      <td>0</td>\n",
       "      <td>0</td>\n",
       "      <td>1</td>\n",
       "      <td>0</td>\n",
       "      <td>0</td>\n",
       "      <td>1</td>\n",
       "      <td>0</td>\n",
       "      <td>1</td>\n",
       "      <td>0</td>\n",
       "      <td>0</td>\n",
       "    </tr>\n",
       "    <tr>\n",
       "      <th>2</th>\n",
       "      <td>1</td>\n",
       "      <td>0</td>\n",
       "      <td>7</td>\n",
       "      <td>1</td>\n",
       "      <td>0</td>\n",
       "      <td>1</td>\n",
       "      <td>0</td>\n",
       "      <td>0</td>\n",
       "      <td>0</td>\n",
       "      <td>0</td>\n",
       "      <td>...</td>\n",
       "      <td>0</td>\n",
       "      <td>0</td>\n",
       "      <td>0</td>\n",
       "      <td>1</td>\n",
       "      <td>1</td>\n",
       "      <td>0</td>\n",
       "      <td>0</td>\n",
       "      <td>1</td>\n",
       "      <td>0</td>\n",
       "      <td>0</td>\n",
       "    </tr>\n",
       "    <tr>\n",
       "      <th>3</th>\n",
       "      <td>4</td>\n",
       "      <td>150</td>\n",
       "      <td>8</td>\n",
       "      <td>1</td>\n",
       "      <td>0</td>\n",
       "      <td>1</td>\n",
       "      <td>0</td>\n",
       "      <td>0</td>\n",
       "      <td>0</td>\n",
       "      <td>0</td>\n",
       "      <td>...</td>\n",
       "      <td>1</td>\n",
       "      <td>0</td>\n",
       "      <td>0</td>\n",
       "      <td>1</td>\n",
       "      <td>1</td>\n",
       "      <td>0</td>\n",
       "      <td>0</td>\n",
       "      <td>1</td>\n",
       "      <td>0</td>\n",
       "      <td>0</td>\n",
       "    </tr>\n",
       "    <tr>\n",
       "      <th>4</th>\n",
       "      <td>1</td>\n",
       "      <td>0</td>\n",
       "      <td>3</td>\n",
       "      <td>1</td>\n",
       "      <td>0</td>\n",
       "      <td>1</td>\n",
       "      <td>0</td>\n",
       "      <td>0</td>\n",
       "      <td>0</td>\n",
       "      <td>0</td>\n",
       "      <td>...</td>\n",
       "      <td>1</td>\n",
       "      <td>1</td>\n",
       "      <td>0</td>\n",
       "      <td>0</td>\n",
       "      <td>1</td>\n",
       "      <td>0</td>\n",
       "      <td>0</td>\n",
       "      <td>1</td>\n",
       "      <td>0</td>\n",
       "      <td>0</td>\n",
       "    </tr>\n",
       "  </tbody>\n",
       "</table>\n",
       "<p>5 rows × 50 columns</p>\n",
       "</div>\n",
       "      <button class=\"colab-df-convert\" onclick=\"convertToInteractive('df-adea0d2f-3ac0-4a31-ae92-fe0736581170')\"\n",
       "              title=\"Convert this dataframe to an interactive table.\"\n",
       "              style=\"display:none;\">\n",
       "        \n",
       "  <svg xmlns=\"http://www.w3.org/2000/svg\" height=\"24px\"viewBox=\"0 0 24 24\"\n",
       "       width=\"24px\">\n",
       "    <path d=\"M0 0h24v24H0V0z\" fill=\"none\"/>\n",
       "    <path d=\"M18.56 5.44l.94 2.06.94-2.06 2.06-.94-2.06-.94-.94-2.06-.94 2.06-2.06.94zm-11 1L8.5 8.5l.94-2.06 2.06-.94-2.06-.94L8.5 2.5l-.94 2.06-2.06.94zm10 10l.94 2.06.94-2.06 2.06-.94-2.06-.94-.94-2.06-.94 2.06-2.06.94z\"/><path d=\"M17.41 7.96l-1.37-1.37c-.4-.4-.92-.59-1.43-.59-.52 0-1.04.2-1.43.59L10.3 9.45l-7.72 7.72c-.78.78-.78 2.05 0 2.83L4 21.41c.39.39.9.59 1.41.59.51 0 1.02-.2 1.41-.59l7.78-7.78 2.81-2.81c.8-.78.8-2.07 0-2.86zM5.41 20L4 18.59l7.72-7.72 1.47 1.35L5.41 20z\"/>\n",
       "  </svg>\n",
       "      </button>\n",
       "      \n",
       "  <style>\n",
       "    .colab-df-container {\n",
       "      display:flex;\n",
       "      flex-wrap:wrap;\n",
       "      gap: 12px;\n",
       "    }\n",
       "\n",
       "    .colab-df-convert {\n",
       "      background-color: #E8F0FE;\n",
       "      border: none;\n",
       "      border-radius: 50%;\n",
       "      cursor: pointer;\n",
       "      display: none;\n",
       "      fill: #1967D2;\n",
       "      height: 32px;\n",
       "      padding: 0 0 0 0;\n",
       "      width: 32px;\n",
       "    }\n",
       "\n",
       "    .colab-df-convert:hover {\n",
       "      background-color: #E2EBFA;\n",
       "      box-shadow: 0px 1px 2px rgba(60, 64, 67, 0.3), 0px 1px 3px 1px rgba(60, 64, 67, 0.15);\n",
       "      fill: #174EA6;\n",
       "    }\n",
       "\n",
       "    [theme=dark] .colab-df-convert {\n",
       "      background-color: #3B4455;\n",
       "      fill: #D2E3FC;\n",
       "    }\n",
       "\n",
       "    [theme=dark] .colab-df-convert:hover {\n",
       "      background-color: #434B5C;\n",
       "      box-shadow: 0px 1px 3px 1px rgba(0, 0, 0, 0.15);\n",
       "      filter: drop-shadow(0px 1px 2px rgba(0, 0, 0, 0.3));\n",
       "      fill: #FFFFFF;\n",
       "    }\n",
       "  </style>\n",
       "\n",
       "      <script>\n",
       "        const buttonEl =\n",
       "          document.querySelector('#df-adea0d2f-3ac0-4a31-ae92-fe0736581170 button.colab-df-convert');\n",
       "        buttonEl.style.display =\n",
       "          google.colab.kernel.accessAllowed ? 'block' : 'none';\n",
       "\n",
       "        async function convertToInteractive(key) {\n",
       "          const element = document.querySelector('#df-adea0d2f-3ac0-4a31-ae92-fe0736581170');\n",
       "          const dataTable =\n",
       "            await google.colab.kernel.invokeFunction('convertToInteractive',\n",
       "                                                     [key], {});\n",
       "          if (!dataTable) return;\n",
       "\n",
       "          const docLinkHtml = 'Like what you see? Visit the ' +\n",
       "            '<a target=\"_blank\" href=https://colab.research.google.com/notebooks/data_table.ipynb>data table notebook</a>'\n",
       "            + ' to learn more about interactive tables.';\n",
       "          element.innerHTML = '';\n",
       "          dataTable['output_type'] = 'display_data';\n",
       "          await google.colab.output.renderOutput(dataTable, element);\n",
       "          const docLink = document.createElement('div');\n",
       "          docLink.innerHTML = docLinkHtml;\n",
       "          element.appendChild(docLink);\n",
       "        }\n",
       "      </script>\n",
       "    </div>\n",
       "  </div>\n",
       "  "
      ],
      "text/plain": [
       "   Age  Fee  PhotoAmt  target  is_Type_Cat  is_Type_Dog  \\\n",
       "0    3  100         1       1            1            0   \n",
       "1    1    0         2       1            1            0   \n",
       "2    1    0         7       1            0            1   \n",
       "3    4  150         8       1            0            1   \n",
       "4    1    0         3       1            0            1   \n",
       "\n",
       "   is_Breed1_Domestic Long Hair  is_Breed1_Domestic Medium Hair  \\\n",
       "0                             0                               0   \n",
       "1                             0                               1   \n",
       "2                             0                               0   \n",
       "3                             0                               0   \n",
       "4                             0                               0   \n",
       "\n",
       "   is_Breed1_Domestic Short Hair  is_Breed1_Golden Retriever  ...  \\\n",
       "0                              0                           0  ...   \n",
       "1                              0                           0  ...   \n",
       "2                              0                           0  ...   \n",
       "3                              0                           0  ...   \n",
       "4                              0                           0  ...   \n",
       "\n",
       "   is_FurLength_Short  is_Vaccinated_No  is_Vaccinated_Not Sure  \\\n",
       "0                   1                 1                       0   \n",
       "1                   0                 0                       1   \n",
       "2                   0                 0                       0   \n",
       "3                   1                 0                       0   \n",
       "4                   1                 1                       0   \n",
       "\n",
       "   is_Vaccinated_Yes  is_Sterilized_No  is_Sterilized_Not Sure  \\\n",
       "0                  0                 1                       0   \n",
       "1                  0                 0                       1   \n",
       "2                  1                 1                       0   \n",
       "3                  1                 1                       0   \n",
       "4                  0                 1                       0   \n",
       "\n",
       "   is_Sterilized_Yes  is_Health_Healthy  is_Health_Minor Injury  \\\n",
       "0                  0                  1                       0   \n",
       "1                  0                  1                       0   \n",
       "2                  0                  1                       0   \n",
       "3                  0                  1                       0   \n",
       "4                  0                  1                       0   \n",
       "\n",
       "   is_Health_Serious Injury  \n",
       "0                         0  \n",
       "1                         0  \n",
       "2                         0  \n",
       "3                         0  \n",
       "4                         0  \n",
       "\n",
       "[5 rows x 50 columns]"
      ]
     },
     "execution_count": 33,
     "metadata": {},
     "output_type": "execute_result"
    }
   ],
   "source": [
    "for cat_col in categoric_columns:\n",
    "  data = pd.get_dummies(data, columns=[cat_col], prefix=f\"is_{cat_col}\")\n",
    "data.head()"
   ]
  },
  {
   "cell_type": "markdown",
   "metadata": {
    "id": "sp0NCbswyEqs"
   },
   "source": [
    "## Split the DataFrame into training, validation, and test sets\n",
    "\n",
    "The dataset is in a single pandas DataFrame. Split it into training, validation, and test respectively:"
   ]
  },
  {
   "cell_type": "markdown",
   "metadata": {
    "id": "uX8w9bpEhD6k"
   },
   "source": [
    "---\n",
    "\n",
    "***Task: 4***\n",
    "Split the data sets in 80:10:10 ratio.\n",
    "\n",
    "---"
   ]
  },
  {
   "cell_type": "code",
   "execution_count": 34,
   "metadata": {
    "execution": {
     "iopub.execute_input": "2022-07-30T01:22:10.078840Z",
     "iopub.status.busy": "2022-07-30T01:22:10.078587Z",
     "iopub.status.idle": "2022-07-30T01:22:10.087002Z",
     "shell.execute_reply": "2022-07-30T01:22:10.086230Z"
    },
    "id": "XvSinthO8oMj"
   },
   "outputs": [],
   "source": [
    "from sklearn.model_selection import train_test_split\n",
    "\n",
    "train, val_test = train_test_split(data, test_size=0.2)\n",
    "val, test = train_test_split(val_test, test_size=0.5)\n",
    "\n",
    "del val_test"
   ]
  },
  {
   "cell_type": "code",
   "execution_count": 35,
   "metadata": {
    "colab": {
     "base_uri": "https://localhost:8080/"
    },
    "execution": {
     "iopub.execute_input": "2022-07-30T01:22:10.090306Z",
     "iopub.status.busy": "2022-07-30T01:22:10.089995Z",
     "iopub.status.idle": "2022-07-30T01:22:10.094370Z",
     "shell.execute_reply": "2022-07-30T01:22:10.093621Z"
    },
    "id": "U02Q1moWoPwQ",
    "outputId": "6686f507-db0d-410c-86cd-09826ac9db62"
   },
   "outputs": [
    {
     "name": "stdout",
     "output_type": "stream",
     "text": [
      "Training examples: 9229\n",
      "Validation examples: 1154\n",
      "Test examples: 1154\n"
     ]
    }
   ],
   "source": [
    "print(f'Training examples: {len(train)}')\n",
    "print(f'Validation examples: {len(val)}')\n",
    "print(f'Test examples: {len(test)}')"
   ]
  },
  {
   "cell_type": "markdown",
   "metadata": {
    "id": "twXBSxnT66o8"
   },
   "source": [
    "## Numerical columns\n",
    "\n",
    "For each numeric feature in the dataset, standardize the distribution of the data.\n",
    "\n",
    "---\n",
    "\n",
    "***Task: 5***\n",
    "\n",
    "Complete the `get_normalized_data` function by normalizing the columns given in the list `column_names`.\n",
    "\n",
    "---"
   ]
  },
  {
   "cell_type": "code",
   "execution_count": 36,
   "metadata": {
    "execution": {
     "iopub.execute_input": "2022-07-30T01:22:13.246209Z",
     "iopub.status.busy": "2022-07-30T01:22:13.245678Z",
     "iopub.status.idle": "2022-07-30T01:22:13.250378Z",
     "shell.execute_reply": "2022-07-30T01:22:13.249525Z"
    },
    "id": "D6OuEKMMyEq1"
   },
   "outputs": [],
   "source": [
    "def get_normalized_data(df, column_names):\n",
    "  for col_name in column_names:\n",
    "    mean = df[col_name].mean()\n",
    "    std = df[col_name].std()\n",
    "    df[col_name] = (df[col_name] - mean)/ std\n",
    "\n",
    "  return df"
   ]
  },
  {
   "cell_type": "code",
   "execution_count": 37,
   "metadata": {
    "execution": {
     "iopub.execute_input": "2022-07-30T01:22:13.254002Z",
     "iopub.status.busy": "2022-07-30T01:22:13.253727Z",
     "iopub.status.idle": "2022-07-30T01:22:15.868385Z",
     "shell.execute_reply": "2022-07-30T01:22:15.867509Z"
    },
    "id": "MpKgUDyk69bM"
   },
   "outputs": [],
   "source": [
    "train = get_normalized_data(train, ['Age', 'Fee', 'PhotoAmt'])\n",
    "val = get_normalized_data(val, ['Age', 'Fee', 'PhotoAmt'])\n",
    "test = get_normalized_data(test, ['Age', 'Fee', 'PhotoAmt'])"
   ]
  },
  {
   "cell_type": "markdown",
   "metadata": {
    "id": "5RbXoSvKKJWq"
   },
   "source": [
    "Get the features and targets"
   ]
  },
  {
   "cell_type": "code",
   "execution_count": 38,
   "metadata": {
    "id": "iJL29-o0KMyK"
   },
   "outputs": [],
   "source": [
    "y_train = train.pop('target')\n",
    "X_train = train\n",
    "\n",
    "y_val = val.pop('target')\n",
    "X_val = val\n",
    "\n",
    "y_test = test.pop('target')\n",
    "X_test = test\n",
    "\n"
   ]
  },
  {
   "cell_type": "code",
   "execution_count": 41,
   "metadata": {
    "colab": {
     "base_uri": "https://localhost:8080/"
    },
    "id": "HbolNmA0LY3t",
    "outputId": "bf33ddd7-f643-4f4e-aace-74b1de78a4f0"
   },
   "outputs": [
    {
     "name": "stdout",
     "output_type": "stream",
     "text": [
      "Feature shape: (9229, 49)\n",
      "Target shape: (9229,)\n"
     ]
    }
   ],
   "source": [
    "print(f\"Feature shape: {X_train.shape}\")\n",
    "print(f\"Target shape: {y_train.shape}\")"
   ]
  },
  {
   "cell_type": "markdown",
   "metadata": {
    "id": "YHSnhz2fyEq3"
   },
   "source": [
    "## Create, compile, and train the model\n"
   ]
  },
  {
   "cell_type": "markdown",
   "metadata": {
    "id": "IDGyN_wpo0XS"
   },
   "source": [
    "The next step is to create a model using the sequential and configure the model with Keras `Model.compile`.\n",
    "\n",
    "---\n",
    "\n",
    "***Task: 6***\n",
    "\n",
    "Complete the `create_model` function by building and compiling the model. Use 2 dense hidden layers and a dropout layer. Also choose an appropriate optimizer and loss function, and configure the model to log accuracy as a metric.\n",
    "\n",
    "---"
   ]
  },
  {
   "cell_type": "code",
   "execution_count": 66,
   "metadata": {
    "colab": {
     "base_uri": "https://localhost:8080/"
    },
    "execution": {
     "iopub.execute_input": "2022-07-30T01:22:23.817012Z",
     "iopub.status.busy": "2022-07-30T01:22:23.816734Z",
     "iopub.status.idle": "2022-07-30T01:22:23.861104Z",
     "shell.execute_reply": "2022-07-30T01:22:23.860310Z"
    },
    "id": "6Yrj-_pr6jyL",
    "outputId": "3321c057-4dca-4bbc-dce1-bba9ca8b6b5b"
   },
   "outputs": [
    {
     "name": "stdout",
     "output_type": "stream",
     "text": [
      "Model: \"sequential_4\"\n",
      "_________________________________________________________________\n",
      " Layer (type)                Output Shape              Param #   \n",
      "=================================================================\n",
      " dense_12 (Dense)            (None, 128)               6400      \n",
      "                                                                 \n",
      " dense_13 (Dense)            (None, 128)               16512     \n",
      "                                                                 \n",
      " dropout_4 (Dropout)         (None, 128)               0         \n",
      "                                                                 \n",
      " dense_14 (Dense)            (None, 1)                 129       \n",
      "                                                                 \n",
      "=================================================================\n",
      "Total params: 23,041\n",
      "Trainable params: 23,041\n",
      "Non-trainable params: 0\n",
      "_________________________________________________________________\n"
     ]
    }
   ],
   "source": [
    "def create_model():\n",
    "  model = tf.keras.Sequential([\n",
    "    tf.keras.layers.InputLayer(input_shape=(X_train.shape[1])),\n",
    "    tf.keras.layers.Dense(128, activation='relu'),\n",
    "    tf.keras.layers.Dense(128, activation='relu'),\n",
    "    tf.keras.layers.Dropout(.1),\n",
    "    tf.keras.layers.Dense(1)\n",
    "  ])\n",
    "  model.compile(optimizer='adam',\n",
    "              loss=tf.keras.losses.BinaryCrossentropy(from_logits=True),\n",
    "              metrics=['accuracy'])\n",
    "  return model\n",
    "\n",
    "model = create_model()\n",
    "model.summary()"
   ]
  },
  {
   "cell_type": "markdown",
   "metadata": {
    "id": "CED6OStLyEq7"
   },
   "source": [
    "Next, train and test the model:"
   ]
  },
  {
   "cell_type": "code",
   "execution_count": 49,
   "metadata": {
    "colab": {
     "base_uri": "https://localhost:8080/"
    },
    "execution": {
     "iopub.execute_input": "2022-07-30T01:22:23.939262Z",
     "iopub.status.busy": "2022-07-30T01:22:23.938954Z",
     "iopub.status.idle": "2022-07-30T01:22:30.814257Z",
     "shell.execute_reply": "2022-07-30T01:22:30.813070Z"
    },
    "id": "OQfE3PC6yEq8",
    "outputId": "cb9b8b70-9ad7-4214-d05a-cb5edd3ce0c9"
   },
   "outputs": [
    {
     "name": "stdout",
     "output_type": "stream",
     "text": [
      "Epoch 1/10\n",
      "289/289 [==============================] - 1s 3ms/step - loss: 0.5348 - accuracy: 0.7260 - val_loss: 0.5350 - val_accuracy: 0.7253\n",
      "Epoch 2/10\n",
      "289/289 [==============================] - 1s 3ms/step - loss: 0.5074 - accuracy: 0.7433 - val_loss: 0.5322 - val_accuracy: 0.7036\n",
      "Epoch 3/10\n",
      "289/289 [==============================] - 1s 2ms/step - loss: 0.4957 - accuracy: 0.7484 - val_loss: 0.5167 - val_accuracy: 0.7270\n",
      "Epoch 4/10\n",
      "289/289 [==============================] - 1s 2ms/step - loss: 0.4851 - accuracy: 0.7538 - val_loss: 0.5218 - val_accuracy: 0.7140\n",
      "Epoch 5/10\n",
      "289/289 [==============================] - 1s 2ms/step - loss: 0.4804 - accuracy: 0.7608 - val_loss: 0.5317 - val_accuracy: 0.7166\n",
      "Epoch 6/10\n",
      "289/289 [==============================] - 1s 2ms/step - loss: 0.4749 - accuracy: 0.7621 - val_loss: 0.5244 - val_accuracy: 0.7374\n",
      "Epoch 7/10\n",
      "289/289 [==============================] - 1s 2ms/step - loss: 0.4661 - accuracy: 0.7674 - val_loss: 0.5232 - val_accuracy: 0.7244\n",
      "Epoch 8/10\n",
      "289/289 [==============================] - 1s 2ms/step - loss: 0.4603 - accuracy: 0.7717 - val_loss: 0.5291 - val_accuracy: 0.7253\n",
      "Epoch 9/10\n",
      "289/289 [==============================] - 1s 2ms/step - loss: 0.4544 - accuracy: 0.7728 - val_loss: 0.5188 - val_accuracy: 0.7366\n",
      "Epoch 10/10\n",
      "289/289 [==============================] - 1s 2ms/step - loss: 0.4464 - accuracy: 0.7788 - val_loss: 0.5294 - val_accuracy: 0.7296\n"
     ]
    }
   ],
   "source": [
    "NUM_EPOCHS = 5\n",
    "\n",
    "training_info = model.fit(x=X_train, y=y_train, epochs=NUM_EPOCHS, validation_data=(X_val, y_val))"
   ]
  },
  {
   "cell_type": "code",
   "execution_count": 56,
   "metadata": {
    "id": "Uol__Wr1QRtF"
   },
   "outputs": [],
   "source": [
    "loss_history = training_info.history['loss']\n",
    "accuracy_history = training_info.history['accuracy']\n",
    "\n",
    "val_loss_history = training_info.history['val_loss']\n",
    "val_accuracy_history = training_info.history['val_accuracy']"
   ]
  },
  {
   "cell_type": "markdown",
   "metadata": {
    "id": "YUqXO5RHcTti"
   },
   "source": [
    "---\n",
    "\n",
    "***Task: 7***\n",
    "\n",
    "Plot the loss and accuracy curves for both training and validation in 2 subplots.\n",
    "\n",
    "---"
   ]
  },
  {
   "cell_type": "code",
   "execution_count": 61,
   "metadata": {
    "colab": {
     "base_uri": "https://localhost:8080/",
     "height": 388
    },
    "id": "tHJahoHgRP01",
    "outputId": "a3f9279a-103e-4017-e8dd-a008e0042dfa"
   },
   "outputs": [
    {
     "data": {
      "image/png": "[encoded data removed]",
      "text/plain": [
       "<Figure size 864x432 with 2 Axes>"
      ]
     },
     "metadata": {
      "needs_background": "light"
     },
     "output_type": "display_data"
    }
   ],
   "source": [
    "fig, axs = plt.subplots(nrows=1, ncols=2, figsize=(12, 6))\n",
    "axs[0].plot(range(1, NUM_EPOCHS+1), loss_history, label=\"train loss\")\n",
    "axs[0].plot(range(1, NUM_EPOCHS+1), val_loss_history, label=\"val loss\")\n",
    "axs[0].legend()\n",
    "axs[0].set_xlabel(\"Epochs\")\n",
    "axs[0].set_ylabel(\"Loss\")\n",
    "\n",
    "axs[1].plot(range(1, NUM_EPOCHS+1), accuracy_history, label=\"train accuracy\")\n",
    "axs[1].plot(range(1, NUM_EPOCHS+1), val_accuracy_history, label=\"val accuracy\")\n",
    "axs[1].legend()\n",
    "axs[1].set_xlabel(\"Epochs\")\n",
    "axs[1].set_ylabel(\"Accuracy\")\n",
    "\n",
    "plt.show()"
   ]
  },
  {
   "cell_type": "code",
   "execution_count": 62,
   "metadata": {
    "colab": {
     "base_uri": "https://localhost:8080/"
    },
    "execution": {
     "iopub.execute_input": "2022-07-30T01:22:30.818224Z",
     "iopub.status.busy": "2022-07-30T01:22:30.817859Z",
     "iopub.status.idle": "2022-07-30T01:22:30.874720Z",
     "shell.execute_reply": "2022-07-30T01:22:30.873736Z"
    },
    "id": "T8N2uAdU2Cni",
    "outputId": "f76fde58-d90a-4b07-e85f-954a1878d721"
   },
   "outputs": [
    {
     "name": "stdout",
     "output_type": "stream",
     "text": [
      "37/37 [==============================] - 0s 2ms/step - loss: 0.5025 - accuracy: 0.7331\n",
      "Accuracy 0.7331022620201111\n"
     ]
    }
   ],
   "source": [
    "loss, accuracy = model.evaluate(x=X_test, y=y_test)\n",
    "print(\"Accuracy\", accuracy)"
   ]
  },
  {
   "cell_type": "markdown",
   "metadata": {
    "id": "XJQQZEiH2FaB"
   },
   "source": [
    "---\n",
    "\n",
    "***Task: 8***\n",
    "\n",
    "Set up an early stopping callback to stop training if the validation loss is not decreasing in the latest 5 epochs. Create and train the model again with the callback.\n",
    "\n",
    "---\n"
   ]
  },
  {
   "cell_type": "code",
   "execution_count": 71,
   "metadata": {
    "colab": {
     "base_uri": "https://localhost:8080/"
    },
    "id": "5p7SvF11UPsU",
    "outputId": "1b2a2b9d-8dbe-4b2d-dbb2-2c5c151f35e3"
   },
   "outputs": [
    {
     "name": "stdout",
     "output_type": "stream",
     "text": [
      "Epoch 1/50\n",
      "289/289 [==============================] - 52s 3ms/step - loss: 0.5361 - accuracy: 0.7264 - val_loss: 0.5278 - val_accuracy: 0.7357\n",
      "Epoch 2/50\n",
      "289/289 [==============================] - 1s 3ms/step - loss: 0.5082 - accuracy: 0.7437 - val_loss: 0.5265 - val_accuracy: 0.7097\n",
      "Epoch 3/50\n",
      "289/289 [==============================] - 1s 3ms/step - loss: 0.4954 - accuracy: 0.7492 - val_loss: 0.5135 - val_accuracy: 0.7366\n",
      "Epoch 4/50\n",
      "289/289 [==============================] - 1s 2ms/step - loss: 0.4833 - accuracy: 0.7587 - val_loss: 0.5189 - val_accuracy: 0.7236\n",
      "Epoch 5/50\n",
      "289/289 [==============================] - 1s 2ms/step - loss: 0.4775 - accuracy: 0.7584 - val_loss: 0.5254 - val_accuracy: 0.7244\n",
      "Epoch 6/50\n",
      "289/289 [==============================] - 1s 2ms/step - loss: 0.4727 - accuracy: 0.7623 - val_loss: 0.5231 - val_accuracy: 0.7357\n",
      "Epoch 7/50\n",
      "289/289 [==============================] - 1s 2ms/step - loss: 0.4638 - accuracy: 0.7704 - val_loss: 0.5245 - val_accuracy: 0.7262\n",
      "Epoch 8/50\n",
      "289/289 [==============================] - 1s 2ms/step - loss: 0.4591 - accuracy: 0.7680 - val_loss: 0.5277 - val_accuracy: 0.7279\n",
      "Epoch 9/50\n",
      "289/289 [==============================] - 1s 2ms/step - loss: 0.4504 - accuracy: 0.7745 - val_loss: 0.5247 - val_accuracy: 0.7340\n",
      "Epoch 10/50\n",
      "289/289 [==============================] - 1s 3ms/step - loss: 0.4445 - accuracy: 0.7808 - val_loss: 0.5346 - val_accuracy: 0.7288\n",
      "Epoch 11/50\n",
      "289/289 [==============================] - 1s 2ms/step - loss: 0.4377 - accuracy: 0.7794 - val_loss: 0.5404 - val_accuracy: 0.7270\n",
      "Epoch 12/50\n",
      "289/289 [==============================] - 1s 3ms/step - loss: 0.4304 - accuracy: 0.7865 - val_loss: 0.5282 - val_accuracy: 0.7383\n",
      "Epoch 13/50\n",
      "289/289 [==============================] - 1s 3ms/step - loss: 0.4216 - accuracy: 0.7910 - val_loss: 0.5396 - val_accuracy: 0.7305\n",
      "Epoch 14/50\n",
      "289/289 [==============================] - 1s 3ms/step - loss: 0.4168 - accuracy: 0.7955 - val_loss: 0.5524 - val_accuracy: 0.7374\n",
      "Epoch 15/50\n",
      "289/289 [==============================] - 1s 3ms/step - loss: 0.4063 - accuracy: 0.7977 - val_loss: 0.5770 - val_accuracy: 0.7374\n",
      "Epoch 16/50\n",
      "289/289 [==============================] - 1s 2ms/step - loss: 0.4021 - accuracy: 0.8045 - val_loss: 0.5797 - val_accuracy: 0.7262\n",
      "Epoch 17/50\n",
      "289/289 [==============================] - 1s 2ms/step - loss: 0.3975 - accuracy: 0.8079 - val_loss: 0.5706 - val_accuracy: 0.7357\n",
      "Epoch 18/50\n",
      "289/289 [==============================] - 1s 3ms/step - loss: 0.3860 - accuracy: 0.8123 - val_loss: 0.5819 - val_accuracy: 0.7244\n",
      "Epoch 19/50\n",
      "289/289 [==============================] - 1s 3ms/step - loss: 0.3787 - accuracy: 0.8194 - val_loss: 0.5896 - val_accuracy: 0.7166\n",
      "Epoch 20/50\n",
      "289/289 [==============================] - 1s 3ms/step - loss: 0.3730 - accuracy: 0.8233 - val_loss: 0.5972 - val_accuracy: 0.7253\n",
      "Epoch 21/50\n",
      "289/289 [==============================] - 1s 2ms/step - loss: 0.3672 - accuracy: 0.8257 - val_loss: 0.6284 - val_accuracy: 0.7418\n",
      "Epoch 22/50\n",
      "289/289 [==============================] - 1s 2ms/step - loss: 0.3591 - accuracy: 0.8310 - val_loss: 0.6017 - val_accuracy: 0.7322\n",
      "Epoch 23/50\n",
      "289/289 [==============================] - 1s 2ms/step - loss: 0.3534 - accuracy: 0.8336 - val_loss: 0.6083 - val_accuracy: 0.7227\n",
      "Epoch 24/50\n",
      "289/289 [==============================] - 1s 2ms/step - loss: 0.3467 - accuracy: 0.8374 - val_loss: 0.6234 - val_accuracy: 0.7192\n",
      "Epoch 25/50\n",
      "289/289 [==============================] - 1s 3ms/step - loss: 0.3429 - accuracy: 0.8374 - val_loss: 0.6672 - val_accuracy: 0.7392\n",
      "Epoch 26/50\n",
      "289/289 [==============================] - 1s 3ms/step - loss: 0.3356 - accuracy: 0.8421 - val_loss: 0.6431 - val_accuracy: 0.7192\n",
      "Epoch 27/50\n",
      "289/289 [==============================] - 1s 3ms/step - loss: 0.3268 - accuracy: 0.8451 - val_loss: 0.6667 - val_accuracy: 0.7123\n",
      "Epoch 28/50\n",
      "289/289 [==============================] - 1s 3ms/step - loss: 0.3208 - accuracy: 0.8496 - val_loss: 0.6729 - val_accuracy: 0.7262\n",
      "Epoch 29/50\n",
      "289/289 [==============================] - 1s 2ms/step - loss: 0.3206 - accuracy: 0.8506 - val_loss: 0.6786 - val_accuracy: 0.7192\n",
      "Epoch 30/50\n",
      "289/289 [==============================] - 1s 2ms/step - loss: 0.3105 - accuracy: 0.8555 - val_loss: 0.6935 - val_accuracy: 0.7253\n",
      "Epoch 31/50\n",
      "289/289 [==============================] - 1s 3ms/step - loss: 0.3098 - accuracy: 0.8549 - val_loss: 0.6770 - val_accuracy: 0.7357\n"
     ]
    }
   ],
   "source": [
    "NUM_EPOCHS = 50\n",
    "\n",
    "model = create_model()\n",
    "\n",
    "# Instantiate an early stopping callback\n",
    "early_stopping = tf.keras.callbacks.EarlyStopping(monitor='val_accuracy', patience=5)\n",
    "\n",
    "# Train your model with the callback\n",
    "training_info = model.fit(X_train, y_train, epochs=NUM_EPOCHS, validation_data=(X_val, y_val), callbacks = [early_stopping])"
   ]
  },
  {
   "cell_type": "code",
   "execution_count": null,
   "metadata": {
    "id": "hOKXspcgV3bf"
   },
   "outputs": [],
   "source": []
  }
 ],
 "metadata": {
  "colab": {
   "collapsed_sections": [],
   "provenance": [],
   "toc_visible": true
  },
  "kernelspec": {
   "display_name": "Python 3",
   "language": "python",
   "name": "python3"
  },
  "language_info": {
   "codemirror_mode": {
    "name": "ipython",
    "version": 3
   },
   "file_extension": ".py",
   "mimetype": "text/x-python",
   "name": "python",
   "nbconvert_exporter": "python",
   "pygments_lexer": "ipython3",
   "version": "3.8.2"
  }
 },
 "nbformat": 4,
 "nbformat_minor": 1
}
